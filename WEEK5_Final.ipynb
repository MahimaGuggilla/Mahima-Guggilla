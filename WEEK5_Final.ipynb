{
  "cells": [
    {
      "cell_type": "markdown",
      "metadata": {
        "id": "Eacg_MEmXhfl"
      },
      "source": [
        " PROBLEM STATEMENT:The challenge is to develop a machine learning model that can accurately identify fake job postings and distinguish them from legitimate ones. This model would be used to automatically filter out fraudulent job postings, preventing them from reaching job seekers, and reducing the burden on employers to manually vet applications."
      ]
    },
    {
      "cell_type": "code",
      "execution_count": 175,
      "metadata": {
        "colab": {
          "base_uri": "https://localhost:8080/"
        },
        "id": "FQfeJYX5VERV",
        "outputId": "bc329197-0837-4293-b2ed-da6341d1121a"
      },
      "outputs": [
        {
          "output_type": "stream",
          "name": "stdout",
          "text": [
            "Drive already mounted at /content/drive; to attempt to forcibly remount, call drive.mount(\"/content/drive\", force_remount=True).\n"
          ]
        }
      ],
      "source": [
        "from google.colab import drive\n",
        "drive.mount('/content/drive')"
      ]
    },
    {
      "cell_type": "markdown",
      "metadata": {
        "id": "T4o3WtQ4-dQR"
      },
      "source": [
        "here, we are mount our Google Drive in Google Colaboratory "
      ]
    },
    {
      "cell_type": "markdown",
      "metadata": {
        "id": "ikz5B0reoPgl"
      },
      "source": [
        "IMPORTING THE LIBRARIES\n"
      ]
    },
    {
      "cell_type": "markdown",
      "metadata": {
        "id": "90PKNANs-lpy"
      },
      "source": [
        "importing Necessary libraries"
      ]
    },
    {
      "cell_type": "code",
      "execution_count": 176,
      "metadata": {
        "id": "cvXqTxapV79X"
      },
      "outputs": [],
      "source": [
        "import pandas as pd\n",
        "import numpy as np \n",
        "import matplotlib.pyplot as plt\n",
        "import seaborn as sns\n",
        "import warnings\n",
        "warnings.filterwarnings(\"ignore\")\n",
        "%matplotlib inline\n"
      ]
    },
    {
      "cell_type": "markdown",
      "metadata": {
        "id": "tLJ1I-vY-7-R"
      },
      "source": [
        "1.PANDAS:pandas (imported as pd) is a library for data manipulation and analysis, particularly for working with tabular data (e.g. data stored in spreadsheets or databases).\n",
        "2.NUMPY:numpy (imported as np) is a library for numerical computing in Python. It provides efficient tools for working with arrays and matrices, as well as various mathematical functions and algorithms.\n",
        "3.MATPLOTLIB:matplotlib is a library for creating static, interactive, and animated visualizations in Python. It provides tools for creating various types of plots and charts, including line plots, scatter plots, bar plots, histograms, and more.\n",
        "4.SEABORN:seaborn is a library for statistical data visualization. It provides\n",
        "a high-level interface for creating aesthetically pleasing and informative visualizations of complex data."
      ]
    },
    {
      "cell_type": "markdown",
      "metadata": {
        "id": "4JqghCLxoX_H"
      },
      "source": [
        "READING THE DATA SET\n"
      ]
    },
    {
      "cell_type": "code",
      "execution_count": 177,
      "metadata": {
        "id": "ez0RPMbTWHHI"
      },
      "outputs": [],
      "source": [
        "dataset_train=pd.read_csv('/content/drive/MyDrive/week5/fake_job_postings.csv/fake_job_postings.csv')"
      ]
    },
    {
      "cell_type": "code",
      "execution_count": 178,
      "metadata": {
        "colab": {
          "base_uri": "https://localhost:8080/"
        },
        "id": "ZBbhiNCOSLTc",
        "outputId": "8f2ce588-854a-4394-b2ad-9e944bbcf892"
      },
      "outputs": [
        {
          "output_type": "execute_result",
          "data": {
            "text/plain": [
              "(17880, 18)"
            ]
          },
          "metadata": {},
          "execution_count": 178
        }
      ],
      "source": [
        "dataset_train.shape"
      ]
    },
    {
      "cell_type": "code",
      "execution_count": 179,
      "metadata": {
        "colab": {
          "base_uri": "https://localhost:8080/",
          "height": 548
        },
        "id": "q2uBEPD9WiKe",
        "outputId": "78ae3830-d5e1-4318-820e-46b8f833c11f"
      },
      "outputs": [
        {
          "output_type": "execute_result",
          "data": {
            "text/plain": [
              "   job_id                                      title            location  \\\n",
              "0       1                           Marketing Intern    US, NY, New York   \n",
              "1       2  Customer Service - Cloud Video Production      NZ, , Auckland   \n",
              "2       3    Commissioning Machinery Assistant (CMA)       US, IA, Wever   \n",
              "3       4          Account Executive - Washington DC  US, DC, Washington   \n",
              "4       5                        Bill Review Manager  US, FL, Fort Worth   \n",
              "\n",
              "  department salary_range                                    company_profile  \\\n",
              "0  Marketing          NaN  We're Food52, and we've created a groundbreaki...   \n",
              "1    Success          NaN  90 Seconds, the worlds Cloud Video Production ...   \n",
              "2        NaN          NaN  Valor Services provides Workforce Solutions th...   \n",
              "3      Sales          NaN  Our passion for improving quality of life thro...   \n",
              "4        NaN          NaN  SpotSource Solutions LLC is a Global Human Cap...   \n",
              "\n",
              "                                         description  \\\n",
              "0  Food52, a fast-growing, James Beard Award-winn...   \n",
              "1  Organised - Focused - Vibrant - Awesome!Do you...   \n",
              "2  Our client, located in Houston, is actively se...   \n",
              "3  THE COMPANY: ESRI – Environmental Systems Rese...   \n",
              "4  JOB TITLE: Itemization Review ManagerLOCATION:...   \n",
              "\n",
              "                                        requirements  \\\n",
              "0  Experience with content management systems a m...   \n",
              "1  What we expect from you:Your key responsibilit...   \n",
              "2  Implement pre-commissioning and commissioning ...   \n",
              "3  EDUCATION: Bachelor’s or Master’s in GIS, busi...   \n",
              "4  QUALIFICATIONS:RN license in the State of Texa...   \n",
              "\n",
              "                                            benefits  telecommuting  \\\n",
              "0                                                NaN              0   \n",
              "1  What you will get from usThrough being part of...              0   \n",
              "2                                                NaN              0   \n",
              "3  Our culture is anything but corporate—we have ...              0   \n",
              "4                              Full Benefits Offered              0   \n",
              "\n",
              "   has_company_logo  has_questions employment_type required_experience  \\\n",
              "0                 1              0           Other          Internship   \n",
              "1                 1              0       Full-time      Not Applicable   \n",
              "2                 1              0             NaN                 NaN   \n",
              "3                 1              0       Full-time    Mid-Senior level   \n",
              "4                 1              1       Full-time    Mid-Senior level   \n",
              "\n",
              "  required_education                   industry              function  \\\n",
              "0                NaN                        NaN             Marketing   \n",
              "1                NaN  Marketing and Advertising      Customer Service   \n",
              "2                NaN                        NaN                   NaN   \n",
              "3  Bachelor's Degree          Computer Software                 Sales   \n",
              "4  Bachelor's Degree     Hospital & Health Care  Health Care Provider   \n",
              "\n",
              "   fraudulent  \n",
              "0           0  \n",
              "1           0  \n",
              "2           0  \n",
              "3           0  \n",
              "4           0  "
            ],
            "text/html": [
              "\n",
              "  <div id=\"df-0fd8426f-13f2-4394-be3e-83811266d1d0\">\n",
              "    <div class=\"colab-df-container\">\n",
              "      <div>\n",
              "<style scoped>\n",
              "    .dataframe tbody tr th:only-of-type {\n",
              "        vertical-align: middle;\n",
              "    }\n",
              "\n",
              "    .dataframe tbody tr th {\n",
              "        vertical-align: top;\n",
              "    }\n",
              "\n",
              "    .dataframe thead th {\n",
              "        text-align: right;\n",
              "    }\n",
              "</style>\n",
              "<table border=\"1\" class=\"dataframe\">\n",
              "  <thead>\n",
              "    <tr style=\"text-align: right;\">\n",
              "      <th></th>\n",
              "      <th>job_id</th>\n",
              "      <th>title</th>\n",
              "      <th>location</th>\n",
              "      <th>department</th>\n",
              "      <th>salary_range</th>\n",
              "      <th>company_profile</th>\n",
              "      <th>description</th>\n",
              "      <th>requirements</th>\n",
              "      <th>benefits</th>\n",
              "      <th>telecommuting</th>\n",
              "      <th>has_company_logo</th>\n",
              "      <th>has_questions</th>\n",
              "      <th>employment_type</th>\n",
              "      <th>required_experience</th>\n",
              "      <th>required_education</th>\n",
              "      <th>industry</th>\n",
              "      <th>function</th>\n",
              "      <th>fraudulent</th>\n",
              "    </tr>\n",
              "  </thead>\n",
              "  <tbody>\n",
              "    <tr>\n",
              "      <th>0</th>\n",
              "      <td>1</td>\n",
              "      <td>Marketing Intern</td>\n",
              "      <td>US, NY, New York</td>\n",
              "      <td>Marketing</td>\n",
              "      <td>NaN</td>\n",
              "      <td>We're Food52, and we've created a groundbreaki...</td>\n",
              "      <td>Food52, a fast-growing, James Beard Award-winn...</td>\n",
              "      <td>Experience with content management systems a m...</td>\n",
              "      <td>NaN</td>\n",
              "      <td>0</td>\n",
              "      <td>1</td>\n",
              "      <td>0</td>\n",
              "      <td>Other</td>\n",
              "      <td>Internship</td>\n",
              "      <td>NaN</td>\n",
              "      <td>NaN</td>\n",
              "      <td>Marketing</td>\n",
              "      <td>0</td>\n",
              "    </tr>\n",
              "    <tr>\n",
              "      <th>1</th>\n",
              "      <td>2</td>\n",
              "      <td>Customer Service - Cloud Video Production</td>\n",
              "      <td>NZ, , Auckland</td>\n",
              "      <td>Success</td>\n",
              "      <td>NaN</td>\n",
              "      <td>90 Seconds, the worlds Cloud Video Production ...</td>\n",
              "      <td>Organised - Focused - Vibrant - Awesome!Do you...</td>\n",
              "      <td>What we expect from you:Your key responsibilit...</td>\n",
              "      <td>What you will get from usThrough being part of...</td>\n",
              "      <td>0</td>\n",
              "      <td>1</td>\n",
              "      <td>0</td>\n",
              "      <td>Full-time</td>\n",
              "      <td>Not Applicable</td>\n",
              "      <td>NaN</td>\n",
              "      <td>Marketing and Advertising</td>\n",
              "      <td>Customer Service</td>\n",
              "      <td>0</td>\n",
              "    </tr>\n",
              "    <tr>\n",
              "      <th>2</th>\n",
              "      <td>3</td>\n",
              "      <td>Commissioning Machinery Assistant (CMA)</td>\n",
              "      <td>US, IA, Wever</td>\n",
              "      <td>NaN</td>\n",
              "      <td>NaN</td>\n",
              "      <td>Valor Services provides Workforce Solutions th...</td>\n",
              "      <td>Our client, located in Houston, is actively se...</td>\n",
              "      <td>Implement pre-commissioning and commissioning ...</td>\n",
              "      <td>NaN</td>\n",
              "      <td>0</td>\n",
              "      <td>1</td>\n",
              "      <td>0</td>\n",
              "      <td>NaN</td>\n",
              "      <td>NaN</td>\n",
              "      <td>NaN</td>\n",
              "      <td>NaN</td>\n",
              "      <td>NaN</td>\n",
              "      <td>0</td>\n",
              "    </tr>\n",
              "    <tr>\n",
              "      <th>3</th>\n",
              "      <td>4</td>\n",
              "      <td>Account Executive - Washington DC</td>\n",
              "      <td>US, DC, Washington</td>\n",
              "      <td>Sales</td>\n",
              "      <td>NaN</td>\n",
              "      <td>Our passion for improving quality of life thro...</td>\n",
              "      <td>THE COMPANY: ESRI – Environmental Systems Rese...</td>\n",
              "      <td>EDUCATION: Bachelor’s or Master’s in GIS, busi...</td>\n",
              "      <td>Our culture is anything but corporate—we have ...</td>\n",
              "      <td>0</td>\n",
              "      <td>1</td>\n",
              "      <td>0</td>\n",
              "      <td>Full-time</td>\n",
              "      <td>Mid-Senior level</td>\n",
              "      <td>Bachelor's Degree</td>\n",
              "      <td>Computer Software</td>\n",
              "      <td>Sales</td>\n",
              "      <td>0</td>\n",
              "    </tr>\n",
              "    <tr>\n",
              "      <th>4</th>\n",
              "      <td>5</td>\n",
              "      <td>Bill Review Manager</td>\n",
              "      <td>US, FL, Fort Worth</td>\n",
              "      <td>NaN</td>\n",
              "      <td>NaN</td>\n",
              "      <td>SpotSource Solutions LLC is a Global Human Cap...</td>\n",
              "      <td>JOB TITLE: Itemization Review ManagerLOCATION:...</td>\n",
              "      <td>QUALIFICATIONS:RN license in the State of Texa...</td>\n",
              "      <td>Full Benefits Offered</td>\n",
              "      <td>0</td>\n",
              "      <td>1</td>\n",
              "      <td>1</td>\n",
              "      <td>Full-time</td>\n",
              "      <td>Mid-Senior level</td>\n",
              "      <td>Bachelor's Degree</td>\n",
              "      <td>Hospital &amp; Health Care</td>\n",
              "      <td>Health Care Provider</td>\n",
              "      <td>0</td>\n",
              "    </tr>\n",
              "  </tbody>\n",
              "</table>\n",
              "</div>\n",
              "      <button class=\"colab-df-convert\" onclick=\"convertToInteractive('df-0fd8426f-13f2-4394-be3e-83811266d1d0')\"\n",
              "              title=\"Convert this dataframe to an interactive table.\"\n",
              "              style=\"display:none;\">\n",
              "        \n",
              "  <svg xmlns=\"http://www.w3.org/2000/svg\" height=\"24px\"viewBox=\"0 0 24 24\"\n",
              "       width=\"24px\">\n",
              "    <path d=\"M0 0h24v24H0V0z\" fill=\"none\"/>\n",
              "    <path d=\"M18.56 5.44l.94 2.06.94-2.06 2.06-.94-2.06-.94-.94-2.06-.94 2.06-2.06.94zm-11 1L8.5 8.5l.94-2.06 2.06-.94-2.06-.94L8.5 2.5l-.94 2.06-2.06.94zm10 10l.94 2.06.94-2.06 2.06-.94-2.06-.94-.94-2.06-.94 2.06-2.06.94z\"/><path d=\"M17.41 7.96l-1.37-1.37c-.4-.4-.92-.59-1.43-.59-.52 0-1.04.2-1.43.59L10.3 9.45l-7.72 7.72c-.78.78-.78 2.05 0 2.83L4 21.41c.39.39.9.59 1.41.59.51 0 1.02-.2 1.41-.59l7.78-7.78 2.81-2.81c.8-.78.8-2.07 0-2.86zM5.41 20L4 18.59l7.72-7.72 1.47 1.35L5.41 20z\"/>\n",
              "  </svg>\n",
              "      </button>\n",
              "      \n",
              "  <style>\n",
              "    .colab-df-container {\n",
              "      display:flex;\n",
              "      flex-wrap:wrap;\n",
              "      gap: 12px;\n",
              "    }\n",
              "\n",
              "    .colab-df-convert {\n",
              "      background-color: #E8F0FE;\n",
              "      border: none;\n",
              "      border-radius: 50%;\n",
              "      cursor: pointer;\n",
              "      display: none;\n",
              "      fill: #1967D2;\n",
              "      height: 32px;\n",
              "      padding: 0 0 0 0;\n",
              "      width: 32px;\n",
              "    }\n",
              "\n",
              "    .colab-df-convert:hover {\n",
              "      background-color: #E2EBFA;\n",
              "      box-shadow: 0px 1px 2px rgba(60, 64, 67, 0.3), 0px 1px 3px 1px rgba(60, 64, 67, 0.15);\n",
              "      fill: #174EA6;\n",
              "    }\n",
              "\n",
              "    [theme=dark] .colab-df-convert {\n",
              "      background-color: #3B4455;\n",
              "      fill: #D2E3FC;\n",
              "    }\n",
              "\n",
              "    [theme=dark] .colab-df-convert:hover {\n",
              "      background-color: #434B5C;\n",
              "      box-shadow: 0px 1px 3px 1px rgba(0, 0, 0, 0.15);\n",
              "      filter: drop-shadow(0px 1px 2px rgba(0, 0, 0, 0.3));\n",
              "      fill: #FFFFFF;\n",
              "    }\n",
              "  </style>\n",
              "\n",
              "      <script>\n",
              "        const buttonEl =\n",
              "          document.querySelector('#df-0fd8426f-13f2-4394-be3e-83811266d1d0 button.colab-df-convert');\n",
              "        buttonEl.style.display =\n",
              "          google.colab.kernel.accessAllowed ? 'block' : 'none';\n",
              "\n",
              "        async function convertToInteractive(key) {\n",
              "          const element = document.querySelector('#df-0fd8426f-13f2-4394-be3e-83811266d1d0');\n",
              "          const dataTable =\n",
              "            await google.colab.kernel.invokeFunction('convertToInteractive',\n",
              "                                                     [key], {});\n",
              "          if (!dataTable) return;\n",
              "\n",
              "          const docLinkHtml = 'Like what you see? Visit the ' +\n",
              "            '<a target=\"_blank\" href=https://colab.research.google.com/notebooks/data_table.ipynb>data table notebook</a>'\n",
              "            + ' to learn more about interactive tables.';\n",
              "          element.innerHTML = '';\n",
              "          dataTable['output_type'] = 'display_data';\n",
              "          await google.colab.output.renderOutput(dataTable, element);\n",
              "          const docLink = document.createElement('div');\n",
              "          docLink.innerHTML = docLinkHtml;\n",
              "          element.appendChild(docLink);\n",
              "        }\n",
              "      </script>\n",
              "    </div>\n",
              "  </div>\n",
              "  "
            ]
          },
          "metadata": {},
          "execution_count": 179
        }
      ],
      "source": [
        "dataset_train.head(5)"
      ]
    },
    {
      "cell_type": "code",
      "execution_count": 180,
      "metadata": {
        "colab": {
          "base_uri": "https://localhost:8080/",
          "height": 600
        },
        "id": "2mHx48HdW1Wo",
        "outputId": "71004a40-c36d-441c-98e7-773bae997032"
      },
      "outputs": [
        {
          "output_type": "execute_result",
          "data": {
            "text/plain": [
              "       job_id                                              title  \\\n",
              "17875   17876                   Account Director - Distribution    \n",
              "17876   17877                                 Payroll Accountant   \n",
              "17877   17878  Project Cost Control Staff Engineer - Cost Con...   \n",
              "17878   17879                                   Graphic Designer   \n",
              "17879   17880                         Web Application Developers   \n",
              "\n",
              "                   location   department salary_range  \\\n",
              "17875       CA, ON, Toronto        Sales          NaN   \n",
              "17876  US, PA, Philadelphia   Accounting          NaN   \n",
              "17877       US, TX, Houston          NaN          NaN   \n",
              "17878         NG, LA, Lagos          NaN          NaN   \n",
              "17879     NZ, N, Wellington  Engineering          NaN   \n",
              "\n",
              "                                         company_profile  \\\n",
              "17875  Vend is looking for some awesome new talent to...   \n",
              "17876  WebLinc is the e-commerce platform and service...   \n",
              "17877  We Provide Full Time Permanent Positions for m...   \n",
              "17878                                                NaN   \n",
              "17879  Vend is looking for some awesome new talent to...   \n",
              "\n",
              "                                             description  \\\n",
              "17875  Just in case this is the first time you’ve vis...   \n",
              "17876  The Payroll Accountant will focus primarily on...   \n",
              "17877  Experienced Project Cost Control Staff Enginee...   \n",
              "17878  Nemsia Studios is looking for an experienced v...   \n",
              "17879  Who are we?Vend is an award winning web based ...   \n",
              "\n",
              "                                            requirements  \\\n",
              "17875  To ace this role you:Will eat comprehensive St...   \n",
              "17876  - B.A. or B.S. in Accounting- Desire to have f...   \n",
              "17877  At least 12 years professional experience.Abil...   \n",
              "17878  1. Must be fluent in the latest versions of Co...   \n",
              "17879  We want to hear from you if:You have an in-dep...   \n",
              "\n",
              "                                                benefits  telecommuting  \\\n",
              "17875  What can you expect from us?We have an open cu...              0   \n",
              "17876  Health &amp; WellnessMedical planPrescription ...              0   \n",
              "17877                                                NaN              0   \n",
              "17878  Competitive salary (compensation will be based...              0   \n",
              "17879                                                NaN              0   \n",
              "\n",
              "       has_company_logo  has_questions employment_type required_experience  \\\n",
              "17875                 1              1       Full-time    Mid-Senior level   \n",
              "17876                 1              1       Full-time    Mid-Senior level   \n",
              "17877                 0              0       Full-time                 NaN   \n",
              "17878                 0              1        Contract      Not Applicable   \n",
              "17879                 1              1       Full-time    Mid-Senior level   \n",
              "\n",
              "      required_education           industry             function  fraudulent  \n",
              "17875                NaN  Computer Software                Sales           0  \n",
              "17876  Bachelor's Degree           Internet  Accounting/Auditing           0  \n",
              "17877                NaN                NaN                  NaN           0  \n",
              "17878       Professional     Graphic Design               Design           0  \n",
              "17879                NaN  Computer Software          Engineering           0  "
            ],
            "text/html": [
              "\n",
              "  <div id=\"df-121cd400-dc2f-4f5b-a67f-3b5158cfa36d\">\n",
              "    <div class=\"colab-df-container\">\n",
              "      <div>\n",
              "<style scoped>\n",
              "    .dataframe tbody tr th:only-of-type {\n",
              "        vertical-align: middle;\n",
              "    }\n",
              "\n",
              "    .dataframe tbody tr th {\n",
              "        vertical-align: top;\n",
              "    }\n",
              "\n",
              "    .dataframe thead th {\n",
              "        text-align: right;\n",
              "    }\n",
              "</style>\n",
              "<table border=\"1\" class=\"dataframe\">\n",
              "  <thead>\n",
              "    <tr style=\"text-align: right;\">\n",
              "      <th></th>\n",
              "      <th>job_id</th>\n",
              "      <th>title</th>\n",
              "      <th>location</th>\n",
              "      <th>department</th>\n",
              "      <th>salary_range</th>\n",
              "      <th>company_profile</th>\n",
              "      <th>description</th>\n",
              "      <th>requirements</th>\n",
              "      <th>benefits</th>\n",
              "      <th>telecommuting</th>\n",
              "      <th>has_company_logo</th>\n",
              "      <th>has_questions</th>\n",
              "      <th>employment_type</th>\n",
              "      <th>required_experience</th>\n",
              "      <th>required_education</th>\n",
              "      <th>industry</th>\n",
              "      <th>function</th>\n",
              "      <th>fraudulent</th>\n",
              "    </tr>\n",
              "  </thead>\n",
              "  <tbody>\n",
              "    <tr>\n",
              "      <th>17875</th>\n",
              "      <td>17876</td>\n",
              "      <td>Account Director - Distribution</td>\n",
              "      <td>CA, ON, Toronto</td>\n",
              "      <td>Sales</td>\n",
              "      <td>NaN</td>\n",
              "      <td>Vend is looking for some awesome new talent to...</td>\n",
              "      <td>Just in case this is the first time you’ve vis...</td>\n",
              "      <td>To ace this role you:Will eat comprehensive St...</td>\n",
              "      <td>What can you expect from us?We have an open cu...</td>\n",
              "      <td>0</td>\n",
              "      <td>1</td>\n",
              "      <td>1</td>\n",
              "      <td>Full-time</td>\n",
              "      <td>Mid-Senior level</td>\n",
              "      <td>NaN</td>\n",
              "      <td>Computer Software</td>\n",
              "      <td>Sales</td>\n",
              "      <td>0</td>\n",
              "    </tr>\n",
              "    <tr>\n",
              "      <th>17876</th>\n",
              "      <td>17877</td>\n",
              "      <td>Payroll Accountant</td>\n",
              "      <td>US, PA, Philadelphia</td>\n",
              "      <td>Accounting</td>\n",
              "      <td>NaN</td>\n",
              "      <td>WebLinc is the e-commerce platform and service...</td>\n",
              "      <td>The Payroll Accountant will focus primarily on...</td>\n",
              "      <td>- B.A. or B.S. in Accounting- Desire to have f...</td>\n",
              "      <td>Health &amp;amp; WellnessMedical planPrescription ...</td>\n",
              "      <td>0</td>\n",
              "      <td>1</td>\n",
              "      <td>1</td>\n",
              "      <td>Full-time</td>\n",
              "      <td>Mid-Senior level</td>\n",
              "      <td>Bachelor's Degree</td>\n",
              "      <td>Internet</td>\n",
              "      <td>Accounting/Auditing</td>\n",
              "      <td>0</td>\n",
              "    </tr>\n",
              "    <tr>\n",
              "      <th>17877</th>\n",
              "      <td>17878</td>\n",
              "      <td>Project Cost Control Staff Engineer - Cost Con...</td>\n",
              "      <td>US, TX, Houston</td>\n",
              "      <td>NaN</td>\n",
              "      <td>NaN</td>\n",
              "      <td>We Provide Full Time Permanent Positions for m...</td>\n",
              "      <td>Experienced Project Cost Control Staff Enginee...</td>\n",
              "      <td>At least 12 years professional experience.Abil...</td>\n",
              "      <td>NaN</td>\n",
              "      <td>0</td>\n",
              "      <td>0</td>\n",
              "      <td>0</td>\n",
              "      <td>Full-time</td>\n",
              "      <td>NaN</td>\n",
              "      <td>NaN</td>\n",
              "      <td>NaN</td>\n",
              "      <td>NaN</td>\n",
              "      <td>0</td>\n",
              "    </tr>\n",
              "    <tr>\n",
              "      <th>17878</th>\n",
              "      <td>17879</td>\n",
              "      <td>Graphic Designer</td>\n",
              "      <td>NG, LA, Lagos</td>\n",
              "      <td>NaN</td>\n",
              "      <td>NaN</td>\n",
              "      <td>NaN</td>\n",
              "      <td>Nemsia Studios is looking for an experienced v...</td>\n",
              "      <td>1. Must be fluent in the latest versions of Co...</td>\n",
              "      <td>Competitive salary (compensation will be based...</td>\n",
              "      <td>0</td>\n",
              "      <td>0</td>\n",
              "      <td>1</td>\n",
              "      <td>Contract</td>\n",
              "      <td>Not Applicable</td>\n",
              "      <td>Professional</td>\n",
              "      <td>Graphic Design</td>\n",
              "      <td>Design</td>\n",
              "      <td>0</td>\n",
              "    </tr>\n",
              "    <tr>\n",
              "      <th>17879</th>\n",
              "      <td>17880</td>\n",
              "      <td>Web Application Developers</td>\n",
              "      <td>NZ, N, Wellington</td>\n",
              "      <td>Engineering</td>\n",
              "      <td>NaN</td>\n",
              "      <td>Vend is looking for some awesome new talent to...</td>\n",
              "      <td>Who are we?Vend is an award winning web based ...</td>\n",
              "      <td>We want to hear from you if:You have an in-dep...</td>\n",
              "      <td>NaN</td>\n",
              "      <td>0</td>\n",
              "      <td>1</td>\n",
              "      <td>1</td>\n",
              "      <td>Full-time</td>\n",
              "      <td>Mid-Senior level</td>\n",
              "      <td>NaN</td>\n",
              "      <td>Computer Software</td>\n",
              "      <td>Engineering</td>\n",
              "      <td>0</td>\n",
              "    </tr>\n",
              "  </tbody>\n",
              "</table>\n",
              "</div>\n",
              "      <button class=\"colab-df-convert\" onclick=\"convertToInteractive('df-121cd400-dc2f-4f5b-a67f-3b5158cfa36d')\"\n",
              "              title=\"Convert this dataframe to an interactive table.\"\n",
              "              style=\"display:none;\">\n",
              "        \n",
              "  <svg xmlns=\"http://www.w3.org/2000/svg\" height=\"24px\"viewBox=\"0 0 24 24\"\n",
              "       width=\"24px\">\n",
              "    <path d=\"M0 0h24v24H0V0z\" fill=\"none\"/>\n",
              "    <path d=\"M18.56 5.44l.94 2.06.94-2.06 2.06-.94-2.06-.94-.94-2.06-.94 2.06-2.06.94zm-11 1L8.5 8.5l.94-2.06 2.06-.94-2.06-.94L8.5 2.5l-.94 2.06-2.06.94zm10 10l.94 2.06.94-2.06 2.06-.94-2.06-.94-.94-2.06-.94 2.06-2.06.94z\"/><path d=\"M17.41 7.96l-1.37-1.37c-.4-.4-.92-.59-1.43-.59-.52 0-1.04.2-1.43.59L10.3 9.45l-7.72 7.72c-.78.78-.78 2.05 0 2.83L4 21.41c.39.39.9.59 1.41.59.51 0 1.02-.2 1.41-.59l7.78-7.78 2.81-2.81c.8-.78.8-2.07 0-2.86zM5.41 20L4 18.59l7.72-7.72 1.47 1.35L5.41 20z\"/>\n",
              "  </svg>\n",
              "      </button>\n",
              "      \n",
              "  <style>\n",
              "    .colab-df-container {\n",
              "      display:flex;\n",
              "      flex-wrap:wrap;\n",
              "      gap: 12px;\n",
              "    }\n",
              "\n",
              "    .colab-df-convert {\n",
              "      background-color: #E8F0FE;\n",
              "      border: none;\n",
              "      border-radius: 50%;\n",
              "      cursor: pointer;\n",
              "      display: none;\n",
              "      fill: #1967D2;\n",
              "      height: 32px;\n",
              "      padding: 0 0 0 0;\n",
              "      width: 32px;\n",
              "    }\n",
              "\n",
              "    .colab-df-convert:hover {\n",
              "      background-color: #E2EBFA;\n",
              "      box-shadow: 0px 1px 2px rgba(60, 64, 67, 0.3), 0px 1px 3px 1px rgba(60, 64, 67, 0.15);\n",
              "      fill: #174EA6;\n",
              "    }\n",
              "\n",
              "    [theme=dark] .colab-df-convert {\n",
              "      background-color: #3B4455;\n",
              "      fill: #D2E3FC;\n",
              "    }\n",
              "\n",
              "    [theme=dark] .colab-df-convert:hover {\n",
              "      background-color: #434B5C;\n",
              "      box-shadow: 0px 1px 3px 1px rgba(0, 0, 0, 0.15);\n",
              "      filter: drop-shadow(0px 1px 2px rgba(0, 0, 0, 0.3));\n",
              "      fill: #FFFFFF;\n",
              "    }\n",
              "  </style>\n",
              "\n",
              "      <script>\n",
              "        const buttonEl =\n",
              "          document.querySelector('#df-121cd400-dc2f-4f5b-a67f-3b5158cfa36d button.colab-df-convert');\n",
              "        buttonEl.style.display =\n",
              "          google.colab.kernel.accessAllowed ? 'block' : 'none';\n",
              "\n",
              "        async function convertToInteractive(key) {\n",
              "          const element = document.querySelector('#df-121cd400-dc2f-4f5b-a67f-3b5158cfa36d');\n",
              "          const dataTable =\n",
              "            await google.colab.kernel.invokeFunction('convertToInteractive',\n",
              "                                                     [key], {});\n",
              "          if (!dataTable) return;\n",
              "\n",
              "          const docLinkHtml = 'Like what you see? Visit the ' +\n",
              "            '<a target=\"_blank\" href=https://colab.research.google.com/notebooks/data_table.ipynb>data table notebook</a>'\n",
              "            + ' to learn more about interactive tables.';\n",
              "          element.innerHTML = '';\n",
              "          dataTable['output_type'] = 'display_data';\n",
              "          await google.colab.output.renderOutput(dataTable, element);\n",
              "          const docLink = document.createElement('div');\n",
              "          docLink.innerHTML = docLinkHtml;\n",
              "          element.appendChild(docLink);\n",
              "        }\n",
              "      </script>\n",
              "    </div>\n",
              "  </div>\n",
              "  "
            ]
          },
          "metadata": {},
          "execution_count": 180
        }
      ],
      "source": [
        "dataset_train.tail(5)"
      ]
    },
    {
      "cell_type": "code",
      "execution_count": 181,
      "metadata": {
        "colab": {
          "base_uri": "https://localhost:8080/"
        },
        "id": "sxrMFGtyW9od",
        "outputId": "cd55b1be-f42e-4431-fe92-15e8f5f4e5ff"
      },
      "outputs": [
        {
          "output_type": "execute_result",
          "data": {
            "text/plain": [
              "(17880, 18)"
            ]
          },
          "metadata": {},
          "execution_count": 181
        }
      ],
      "source": [
        "dataset_train.shape"
      ]
    },
    {
      "cell_type": "code",
      "execution_count": 182,
      "metadata": {
        "colab": {
          "base_uri": "https://localhost:8080/"
        },
        "id": "3FjTi8XfXEiB",
        "outputId": "c26addf2-b516-4845-b4ef-968d079529fa"
      },
      "outputs": [
        {
          "output_type": "execute_result",
          "data": {
            "text/plain": [
              "Index(['job_id', 'title', 'location', 'department', 'salary_range',\n",
              "       'company_profile', 'description', 'requirements', 'benefits',\n",
              "       'telecommuting', 'has_company_logo', 'has_questions', 'employment_type',\n",
              "       'required_experience', 'required_education', 'industry', 'function',\n",
              "       'fraudulent'],\n",
              "      dtype='object')"
            ]
          },
          "metadata": {},
          "execution_count": 182
        }
      ],
      "source": [
        "dataset_train.columns"
      ]
    },
    {
      "cell_type": "markdown",
      "metadata": {
        "id": "dSBhaPtZclJe"
      },
      "source": [
        "job_id: Unique identifier for each job posting\n",
        "title: Job title\n",
        "location: Job location\n",
        "department: Department or team within the company responsible for the job posting\n",
        "salary_range: Salary range for the job\n",
        "company_profile: Description of the company and its culture\n",
        "description: Description of the job duties and requirements\n",
        "requirements: Required qualifications for the job\n",
        "benefits: Benefits offered with the job\n",
        "telecommuting: Whether the job allows telecommuting (0 = no, 1 = yes)\n",
        "has_company_logo: Whether the company posting the job has a logo (0 = no, 1 = yes)\n",
        "has_questions: Whether the job posting includes questions for applicants to answer (0 = no, 1 = yes)\n",
        "employment_type: Type of employment (Full-time, Part-time, Contract, etc.)\n",
        "required_experience: Level of experience required for the job (Entry level, Mid-Senior level, etc.)\n",
        "required_education: Education level required for the job (Bachelor's degree, Master's degree, etc.)\n",
        "industry: Industry in which the company operates (Information Technology, Finance, etc.)\n",
        "function: Function or role of the job within the company (Engineering, Sales, etc.)\n",
        "fraudulent: Whether the job posting is fraudulent (0 = no, 1 = yes)"
      ]
    },
    {
      "cell_type": "markdown",
      "metadata": {
        "id": "4x1_ior96a8z"
      },
      "source": [
        "EXPLORATORY DATA ANALYSIS"
      ]
    },
    {
      "cell_type": "markdown",
      "metadata": {
        "id": "xMYP5dgZ6vm0"
      },
      "source": [
        "checking missing data\n"
      ]
    },
    {
      "cell_type": "code",
      "execution_count": 183,
      "metadata": {
        "colab": {
          "base_uri": "https://localhost:8080/"
        },
        "id": "-Z12QeOWXNuv",
        "outputId": "20aecf17-81dd-4925-f9eb-2603a8641e0a"
      },
      "outputs": [
        {
          "output_type": "execute_result",
          "data": {
            "text/plain": [
              "job_id                     0\n",
              "title                      0\n",
              "location                 346\n",
              "department             11547\n",
              "salary_range           15012\n",
              "company_profile         3308\n",
              "description                1\n",
              "requirements            2695\n",
              "benefits                7210\n",
              "telecommuting              0\n",
              "has_company_logo           0\n",
              "has_questions              0\n",
              "employment_type         3471\n",
              "required_experience     7050\n",
              "required_education      8105\n",
              "industry                4903\n",
              "function                6455\n",
              "fraudulent                 0\n",
              "dtype: int64"
            ]
          },
          "metadata": {},
          "execution_count": 183
        }
      ],
      "source": [
        "dataset_train.isnull().sum()"
      ]
    },
    {
      "cell_type": "code",
      "execution_count": 184,
      "metadata": {
        "colab": {
          "base_uri": "https://localhost:8080/",
          "height": 376
        },
        "id": "EXeO8JZPpDEC",
        "outputId": "f0f257ac-1b3c-499d-a9b8-35896d7a7b4d"
      },
      "outputs": [
        {
          "output_type": "execute_result",
          "data": {
            "text/plain": [
              "<Axes: >"
            ]
          },
          "metadata": {},
          "execution_count": 184
        },
        {
          "output_type": "display_data",
          "data": {
            "text/plain": [
              "<Figure size 432x288 with 1 Axes>"
            ],
            "image/png": "[encoded data removed]"
          },
          "metadata": {
            "needs_background": "light"
          }
        }
      ],
      "source": [
        "sns.heatmap(dataset_train.isnull(),yticklabels=False,cbar=False,cmap='viridis')"
      ]
    },
    {
      "cell_type": "markdown",
      "metadata": {
        "id": "gsrFAR_7TIar"
      },
      "source": [
        "dataset_train.isnull()': This returns a dataframe of boolean values where 'True' indicates a null value.\n",
        "\n",
        "'yticklabels = False': This removes the y-axis tick labels from the heatmap.\n",
        "\n",
        "'cbar = False': This removes the colorbar from the heatmap.\n",
        "\n",
        "'cmap = 'viridis'': This sets the color map to 'viridis', which is a popular color map in seaborn.\n",
        "\n",
        "A heatmap that displays the null values in the 'dataset_train' dataframe using a color scheme where yellow indicates missing values, and blue indicates non-missing values."
      ]
    },
    {
      "cell_type": "code",
      "execution_count": 185,
      "metadata": {
        "colab": {
          "base_uri": "https://localhost:8080/",
          "height": 528
        },
        "id": "bjkRKVKCXXeJ",
        "outputId": "a787eb53-6b03-4697-e37b-37386356a811"
      },
      "outputs": [
        {
          "output_type": "execute_result",
          "data": {
            "text/plain": [
              "              job_id                    title         location department  \\\n",
              "count   17880.000000                    17880            17534       6333   \n",
              "unique           NaN                    11231             3105       1337   \n",
              "top              NaN  English Teacher Abroad   GB, LND, London      Sales   \n",
              "freq             NaN                      311              718        551   \n",
              "mean     8940.500000                      NaN              NaN        NaN   \n",
              "std      5161.655742                      NaN              NaN        NaN   \n",
              "min         1.000000                      NaN              NaN        NaN   \n",
              "25%      4470.750000                      NaN              NaN        NaN   \n",
              "50%      8940.500000                      NaN              NaN        NaN   \n",
              "75%     13410.250000                      NaN              NaN        NaN   \n",
              "max     17880.000000                      NaN              NaN        NaN   \n",
              "\n",
              "       salary_range                                    company_profile  \\\n",
              "count          2868                                              14572   \n",
              "unique          874                                               1709   \n",
              "top             0-0  We help teachers get safe &amp; secure jobs ab...   \n",
              "freq            142                                                726   \n",
              "mean            NaN                                                NaN   \n",
              "std             NaN                                                NaN   \n",
              "min             NaN                                                NaN   \n",
              "25%             NaN                                                NaN   \n",
              "50%             NaN                                                NaN   \n",
              "75%             NaN                                                NaN   \n",
              "max             NaN                                                NaN   \n",
              "\n",
              "                                              description  \\\n",
              "count                                               17879   \n",
              "unique                                              14801   \n",
              "top     Play with kids, get paid for it Love travel? J...   \n",
              "freq                                                  379   \n",
              "mean                                                  NaN   \n",
              "std                                                   NaN   \n",
              "min                                                   NaN   \n",
              "25%                                                   NaN   \n",
              "50%                                                   NaN   \n",
              "75%                                                   NaN   \n",
              "max                                                   NaN   \n",
              "\n",
              "                                             requirements  \\\n",
              "count                                               15185   \n",
              "unique                                              11968   \n",
              "top     University degree required. TEFL / TESOL / CEL...   \n",
              "freq                                                  410   \n",
              "mean                                                  NaN   \n",
              "std                                                   NaN   \n",
              "min                                                   NaN   \n",
              "25%                                                   NaN   \n",
              "50%                                                   NaN   \n",
              "75%                                                   NaN   \n",
              "max                                                   NaN   \n",
              "\n",
              "                   benefits  telecommuting  has_company_logo  has_questions  \\\n",
              "count                 10670   17880.000000      17880.000000   17880.000000   \n",
              "unique                 6205            NaN               NaN            NaN   \n",
              "top     See job description            NaN               NaN            NaN   \n",
              "freq                    726            NaN               NaN            NaN   \n",
              "mean                    NaN       0.042897          0.795302       0.491723   \n",
              "std                     NaN       0.202631          0.403492       0.499945   \n",
              "min                     NaN       0.000000          0.000000       0.000000   \n",
              "25%                     NaN       0.000000          1.000000       0.000000   \n",
              "50%                     NaN       0.000000          1.000000       0.000000   \n",
              "75%                     NaN       0.000000          1.000000       1.000000   \n",
              "max                     NaN       1.000000          1.000000       1.000000   \n",
              "\n",
              "       employment_type required_experience required_education  \\\n",
              "count            14409               10830               9775   \n",
              "unique               5                   7                 13   \n",
              "top          Full-time    Mid-Senior level  Bachelor's Degree   \n",
              "freq             11620                3809               5145   \n",
              "mean               NaN                 NaN                NaN   \n",
              "std                NaN                 NaN                NaN   \n",
              "min                NaN                 NaN                NaN   \n",
              "25%                NaN                 NaN                NaN   \n",
              "50%                NaN                 NaN                NaN   \n",
              "75%                NaN                 NaN                NaN   \n",
              "max                NaN                 NaN                NaN   \n",
              "\n",
              "                                   industry                function  \\\n",
              "count                                 12977                   11425   \n",
              "unique                                  131                      37   \n",
              "top     Information Technology and Services  Information Technology   \n",
              "freq                                   1734                    1749   \n",
              "mean                                    NaN                     NaN   \n",
              "std                                     NaN                     NaN   \n",
              "min                                     NaN                     NaN   \n",
              "25%                                     NaN                     NaN   \n",
              "50%                                     NaN                     NaN   \n",
              "75%                                     NaN                     NaN   \n",
              "max                                     NaN                     NaN   \n",
              "\n",
              "          fraudulent  \n",
              "count   17880.000000  \n",
              "unique           NaN  \n",
              "top              NaN  \n",
              "freq             NaN  \n",
              "mean        0.048434  \n",
              "std         0.214688  \n",
              "min         0.000000  \n",
              "25%         0.000000  \n",
              "50%         0.000000  \n",
              "75%         0.000000  \n",
              "max         1.000000  "
            ],
            "text/html": [
              "\n",
              "  <div id=\"df-a7a9ed78-0119-438a-8d40-f0774550dc1f\">\n",
              "    <div class=\"colab-df-container\">\n",
              "      <div>\n",
              "<style scoped>\n",
              "    .dataframe tbody tr th:only-of-type {\n",
              "        vertical-align: middle;\n",
              "    }\n",
              "\n",
              "    .dataframe tbody tr th {\n",
              "        vertical-align: top;\n",
              "    }\n",
              "\n",
              "    .dataframe thead th {\n",
              "        text-align: right;\n",
              "    }\n",
              "</style>\n",
              "<table border=\"1\" class=\"dataframe\">\n",
              "  <thead>\n",
              "    <tr style=\"text-align: right;\">\n",
              "      <th></th>\n",
              "      <th>job_id</th>\n",
              "      <th>title</th>\n",
              "      <th>location</th>\n",
              "      <th>department</th>\n",
              "      <th>salary_range</th>\n",
              "      <th>company_profile</th>\n",
              "      <th>description</th>\n",
              "      <th>requirements</th>\n",
              "      <th>benefits</th>\n",
              "      <th>telecommuting</th>\n",
              "      <th>has_company_logo</th>\n",
              "      <th>has_questions</th>\n",
              "      <th>employment_type</th>\n",
              "      <th>required_experience</th>\n",
              "      <th>required_education</th>\n",
              "      <th>industry</th>\n",
              "      <th>function</th>\n",
              "      <th>fraudulent</th>\n",
              "    </tr>\n",
              "  </thead>\n",
              "  <tbody>\n",
              "    <tr>\n",
              "      <th>count</th>\n",
              "      <td>17880.000000</td>\n",
              "      <td>17880</td>\n",
              "      <td>17534</td>\n",
              "      <td>6333</td>\n",
              "      <td>2868</td>\n",
              "      <td>14572</td>\n",
              "      <td>17879</td>\n",
              "      <td>15185</td>\n",
              "      <td>10670</td>\n",
              "      <td>17880.000000</td>\n",
              "      <td>17880.000000</td>\n",
              "      <td>17880.000000</td>\n",
              "      <td>14409</td>\n",
              "      <td>10830</td>\n",
              "      <td>9775</td>\n",
              "      <td>12977</td>\n",
              "      <td>11425</td>\n",
              "      <td>17880.000000</td>\n",
              "    </tr>\n",
              "    <tr>\n",
              "      <th>unique</th>\n",
              "      <td>NaN</td>\n",
              "      <td>11231</td>\n",
              "      <td>3105</td>\n",
              "      <td>1337</td>\n",
              "      <td>874</td>\n",
              "      <td>1709</td>\n",
              "      <td>14801</td>\n",
              "      <td>11968</td>\n",
              "      <td>6205</td>\n",
              "      <td>NaN</td>\n",
              "      <td>NaN</td>\n",
              "      <td>NaN</td>\n",
              "      <td>5</td>\n",
              "      <td>7</td>\n",
              "      <td>13</td>\n",
              "      <td>131</td>\n",
              "      <td>37</td>\n",
              "      <td>NaN</td>\n",
              "    </tr>\n",
              "    <tr>\n",
              "      <th>top</th>\n",
              "      <td>NaN</td>\n",
              "      <td>English Teacher Abroad</td>\n",
              "      <td>GB, LND, London</td>\n",
              "      <td>Sales</td>\n",
              "      <td>0-0</td>\n",
              "      <td>We help teachers get safe &amp;amp; secure jobs ab...</td>\n",
              "      <td>Play with kids, get paid for it Love travel? J...</td>\n",
              "      <td>University degree required. TEFL / TESOL / CEL...</td>\n",
              "      <td>See job description</td>\n",
              "      <td>NaN</td>\n",
              "      <td>NaN</td>\n",
              "      <td>NaN</td>\n",
              "      <td>Full-time</td>\n",
              "      <td>Mid-Senior level</td>\n",
              "      <td>Bachelor's Degree</td>\n",
              "      <td>Information Technology and Services</td>\n",
              "      <td>Information Technology</td>\n",
              "      <td>NaN</td>\n",
              "    </tr>\n",
              "    <tr>\n",
              "      <th>freq</th>\n",
              "      <td>NaN</td>\n",
              "      <td>311</td>\n",
              "      <td>718</td>\n",
              "      <td>551</td>\n",
              "      <td>142</td>\n",
              "      <td>726</td>\n",
              "      <td>379</td>\n",
              "      <td>410</td>\n",
              "      <td>726</td>\n",
              "      <td>NaN</td>\n",
              "      <td>NaN</td>\n",
              "      <td>NaN</td>\n",
              "      <td>11620</td>\n",
              "      <td>3809</td>\n",
              "      <td>5145</td>\n",
              "      <td>1734</td>\n",
              "      <td>1749</td>\n",
              "      <td>NaN</td>\n",
              "    </tr>\n",
              "    <tr>\n",
              "      <th>mean</th>\n",
              "      <td>8940.500000</td>\n",
              "      <td>NaN</td>\n",
              "      <td>NaN</td>\n",
              "      <td>NaN</td>\n",
              "      <td>NaN</td>\n",
              "      <td>NaN</td>\n",
              "      <td>NaN</td>\n",
              "      <td>NaN</td>\n",
              "      <td>NaN</td>\n",
              "      <td>0.042897</td>\n",
              "      <td>0.795302</td>\n",
              "      <td>0.491723</td>\n",
              "      <td>NaN</td>\n",
              "      <td>NaN</td>\n",
              "      <td>NaN</td>\n",
              "      <td>NaN</td>\n",
              "      <td>NaN</td>\n",
              "      <td>0.048434</td>\n",
              "    </tr>\n",
              "    <tr>\n",
              "      <th>std</th>\n",
              "      <td>5161.655742</td>\n",
              "      <td>NaN</td>\n",
              "      <td>NaN</td>\n",
              "      <td>NaN</td>\n",
              "      <td>NaN</td>\n",
              "      <td>NaN</td>\n",
              "      <td>NaN</td>\n",
              "      <td>NaN</td>\n",
              "      <td>NaN</td>\n",
              "      <td>0.202631</td>\n",
              "      <td>0.403492</td>\n",
              "      <td>0.499945</td>\n",
              "      <td>NaN</td>\n",
              "      <td>NaN</td>\n",
              "      <td>NaN</td>\n",
              "      <td>NaN</td>\n",
              "      <td>NaN</td>\n",
              "      <td>0.214688</td>\n",
              "    </tr>\n",
              "    <tr>\n",
              "      <th>min</th>\n",
              "      <td>1.000000</td>\n",
              "      <td>NaN</td>\n",
              "      <td>NaN</td>\n",
              "      <td>NaN</td>\n",
              "      <td>NaN</td>\n",
              "      <td>NaN</td>\n",
              "      <td>NaN</td>\n",
              "      <td>NaN</td>\n",
              "      <td>NaN</td>\n",
              "      <td>0.000000</td>\n",
              "      <td>0.000000</td>\n",
              "      <td>0.000000</td>\n",
              "      <td>NaN</td>\n",
              "      <td>NaN</td>\n",
              "      <td>NaN</td>\n",
              "      <td>NaN</td>\n",
              "      <td>NaN</td>\n",
              "      <td>0.000000</td>\n",
              "    </tr>\n",
              "    <tr>\n",
              "      <th>25%</th>\n",
              "      <td>4470.750000</td>\n",
              "      <td>NaN</td>\n",
              "      <td>NaN</td>\n",
              "      <td>NaN</td>\n",
              "      <td>NaN</td>\n",
              "      <td>NaN</td>\n",
              "      <td>NaN</td>\n",
              "      <td>NaN</td>\n",
              "      <td>NaN</td>\n",
              "      <td>0.000000</td>\n",
              "      <td>1.000000</td>\n",
              "      <td>0.000000</td>\n",
              "      <td>NaN</td>\n",
              "      <td>NaN</td>\n",
              "      <td>NaN</td>\n",
              "      <td>NaN</td>\n",
              "      <td>NaN</td>\n",
              "      <td>0.000000</td>\n",
              "    </tr>\n",
              "    <tr>\n",
              "      <th>50%</th>\n",
              "      <td>8940.500000</td>\n",
              "      <td>NaN</td>\n",
              "      <td>NaN</td>\n",
              "      <td>NaN</td>\n",
              "      <td>NaN</td>\n",
              "      <td>NaN</td>\n",
              "      <td>NaN</td>\n",
              "      <td>NaN</td>\n",
              "      <td>NaN</td>\n",
              "      <td>0.000000</td>\n",
              "      <td>1.000000</td>\n",
              "      <td>0.000000</td>\n",
              "      <td>NaN</td>\n",
              "      <td>NaN</td>\n",
              "      <td>NaN</td>\n",
              "      <td>NaN</td>\n",
              "      <td>NaN</td>\n",
              "      <td>0.000000</td>\n",
              "    </tr>\n",
              "    <tr>\n",
              "      <th>75%</th>\n",
              "      <td>13410.250000</td>\n",
              "      <td>NaN</td>\n",
              "      <td>NaN</td>\n",
              "      <td>NaN</td>\n",
              "      <td>NaN</td>\n",
              "      <td>NaN</td>\n",
              "      <td>NaN</td>\n",
              "      <td>NaN</td>\n",
              "      <td>NaN</td>\n",
              "      <td>0.000000</td>\n",
              "      <td>1.000000</td>\n",
              "      <td>1.000000</td>\n",
              "      <td>NaN</td>\n",
              "      <td>NaN</td>\n",
              "      <td>NaN</td>\n",
              "      <td>NaN</td>\n",
              "      <td>NaN</td>\n",
              "      <td>0.000000</td>\n",
              "    </tr>\n",
              "    <tr>\n",
              "      <th>max</th>\n",
              "      <td>17880.000000</td>\n",
              "      <td>NaN</td>\n",
              "      <td>NaN</td>\n",
              "      <td>NaN</td>\n",
              "      <td>NaN</td>\n",
              "      <td>NaN</td>\n",
              "      <td>NaN</td>\n",
              "      <td>NaN</td>\n",
              "      <td>NaN</td>\n",
              "      <td>1.000000</td>\n",
              "      <td>1.000000</td>\n",
              "      <td>1.000000</td>\n",
              "      <td>NaN</td>\n",
              "      <td>NaN</td>\n",
              "      <td>NaN</td>\n",
              "      <td>NaN</td>\n",
              "      <td>NaN</td>\n",
              "      <td>1.000000</td>\n",
              "    </tr>\n",
              "  </tbody>\n",
              "</table>\n",
              "</div>\n",
              "      <button class=\"colab-df-convert\" onclick=\"convertToInteractive('df-a7a9ed78-0119-438a-8d40-f0774550dc1f')\"\n",
              "              title=\"Convert this dataframe to an interactive table.\"\n",
              "              style=\"display:none;\">\n",
              "        \n",
              "  <svg xmlns=\"http://www.w3.org/2000/svg\" height=\"24px\"viewBox=\"0 0 24 24\"\n",
              "       width=\"24px\">\n",
              "    <path d=\"M0 0h24v24H0V0z\" fill=\"none\"/>\n",
              "    <path d=\"M18.56 5.44l.94 2.06.94-2.06 2.06-.94-2.06-.94-.94-2.06-.94 2.06-2.06.94zm-11 1L8.5 8.5l.94-2.06 2.06-.94-2.06-.94L8.5 2.5l-.94 2.06-2.06.94zm10 10l.94 2.06.94-2.06 2.06-.94-2.06-.94-.94-2.06-.94 2.06-2.06.94z\"/><path d=\"M17.41 7.96l-1.37-1.37c-.4-.4-.92-.59-1.43-.59-.52 0-1.04.2-1.43.59L10.3 9.45l-7.72 7.72c-.78.78-.78 2.05 0 2.83L4 21.41c.39.39.9.59 1.41.59.51 0 1.02-.2 1.41-.59l7.78-7.78 2.81-2.81c.8-.78.8-2.07 0-2.86zM5.41 20L4 18.59l7.72-7.72 1.47 1.35L5.41 20z\"/>\n",
              "  </svg>\n",
              "      </button>\n",
              "      \n",
              "  <style>\n",
              "    .colab-df-container {\n",
              "      display:flex;\n",
              "      flex-wrap:wrap;\n",
              "      gap: 12px;\n",
              "    }\n",
              "\n",
              "    .colab-df-convert {\n",
              "      background-color: #E8F0FE;\n",
              "      border: none;\n",
              "      border-radius: 50%;\n",
              "      cursor: pointer;\n",
              "      display: none;\n",
              "      fill: #1967D2;\n",
              "      height: 32px;\n",
              "      padding: 0 0 0 0;\n",
              "      width: 32px;\n",
              "    }\n",
              "\n",
              "    .colab-df-convert:hover {\n",
              "      background-color: #E2EBFA;\n",
              "      box-shadow: 0px 1px 2px rgba(60, 64, 67, 0.3), 0px 1px 3px 1px rgba(60, 64, 67, 0.15);\n",
              "      fill: #174EA6;\n",
              "    }\n",
              "\n",
              "    [theme=dark] .colab-df-convert {\n",
              "      background-color: #3B4455;\n",
              "      fill: #D2E3FC;\n",
              "    }\n",
              "\n",
              "    [theme=dark] .colab-df-convert:hover {\n",
              "      background-color: #434B5C;\n",
              "      box-shadow: 0px 1px 3px 1px rgba(0, 0, 0, 0.15);\n",
              "      filter: drop-shadow(0px 1px 2px rgba(0, 0, 0, 0.3));\n",
              "      fill: #FFFFFF;\n",
              "    }\n",
              "  </style>\n",
              "\n",
              "      <script>\n",
              "        const buttonEl =\n",
              "          document.querySelector('#df-a7a9ed78-0119-438a-8d40-f0774550dc1f button.colab-df-convert');\n",
              "        buttonEl.style.display =\n",
              "          google.colab.kernel.accessAllowed ? 'block' : 'none';\n",
              "\n",
              "        async function convertToInteractive(key) {\n",
              "          const element = document.querySelector('#df-a7a9ed78-0119-438a-8d40-f0774550dc1f');\n",
              "          const dataTable =\n",
              "            await google.colab.kernel.invokeFunction('convertToInteractive',\n",
              "                                                     [key], {});\n",
              "          if (!dataTable) return;\n",
              "\n",
              "          const docLinkHtml = 'Like what you see? Visit the ' +\n",
              "            '<a target=\"_blank\" href=https://colab.research.google.com/notebooks/data_table.ipynb>data table notebook</a>'\n",
              "            + ' to learn more about interactive tables.';\n",
              "          element.innerHTML = '';\n",
              "          dataTable['output_type'] = 'display_data';\n",
              "          await google.colab.output.renderOutput(dataTable, element);\n",
              "          const docLink = document.createElement('div');\n",
              "          docLink.innerHTML = docLinkHtml;\n",
              "          element.appendChild(docLink);\n",
              "        }\n",
              "      </script>\n",
              "    </div>\n",
              "  </div>\n",
              "  "
            ]
          },
          "metadata": {},
          "execution_count": 185
        }
      ],
      "source": [
        "dataset_train.describe(include='all')"
      ]
    },
    {
      "cell_type": "code",
      "execution_count": 186,
      "metadata": {
        "colab": {
          "base_uri": "https://localhost:8080/"
        },
        "id": "BPrRWYMZbz7k",
        "outputId": "59351eb7-161e-436c-9299-ea36e23cde54"
      },
      "outputs": [
        {
          "output_type": "execute_result",
          "data": {
            "text/plain": [
              "job_id                  int64\n",
              "title                  object\n",
              "location               object\n",
              "department             object\n",
              "salary_range           object\n",
              "company_profile        object\n",
              "description            object\n",
              "requirements           object\n",
              "benefits               object\n",
              "telecommuting           int64\n",
              "has_company_logo        int64\n",
              "has_questions           int64\n",
              "employment_type        object\n",
              "required_experience    object\n",
              "required_education     object\n",
              "industry               object\n",
              "function               object\n",
              "fraudulent              int64\n",
              "dtype: object"
            ]
          },
          "metadata": {},
          "execution_count": 186
        }
      ],
      "source": [
        "dataset_train.dtypes"
      ]
    },
    {
      "cell_type": "code",
      "execution_count": 187,
      "metadata": {
        "colab": {
          "base_uri": "https://localhost:8080/",
          "height": 298
        },
        "id": "UUIeZ8tg-gJc",
        "outputId": "8cae50b0-f131-4925-a22b-98686ebbf2e5"
      },
      "outputs": [
        {
          "output_type": "execute_result",
          "data": {
            "text/plain": [
              "<Axes: xlabel='has_company_logo', ylabel='count'>"
            ]
          },
          "metadata": {},
          "execution_count": 187
        },
        {
          "output_type": "display_data",
          "data": {
            "text/plain": [
              "<Figure size 432x288 with 1 Axes>"
            ],
            "image/png": "[encoded data removed]"
          },
          "metadata": {
            "needs_background": "light"
          }
        }
      ],
      "source": [
        "sns.countplot(x='has_company_logo',data=dataset_train)"
      ]
    },
    {
      "cell_type": "code",
      "execution_count": 188,
      "metadata": {
        "colab": {
          "base_uri": "https://localhost:8080/",
          "height": 297
        },
        "id": "DvLYknFAbmsF",
        "outputId": "321f0a78-14c6-4fa9-f237-39476bd3942c"
      },
      "outputs": [
        {
          "output_type": "execute_result",
          "data": {
            "text/plain": [
              "<Axes: xlabel='telecommuting', ylabel='count'>"
            ]
          },
          "metadata": {},
          "execution_count": 188
        },
        {
          "output_type": "display_data",
          "data": {
            "text/plain": [
              "<Figure size 432x288 with 1 Axes>"
            ],
            "image/png": "[encoded data removed]"
          },
          "metadata": {
            "needs_background": "light"
          }
        }
      ],
      "source": [
        "sns.countplot(x='telecommuting',data=dataset_train)"
      ]
    },
    {
      "cell_type": "code",
      "execution_count": 189,
      "metadata": {
        "colab": {
          "base_uri": "https://localhost:8080/",
          "height": 297
        },
        "id": "Et3lVMkkbJ-I",
        "outputId": "94f65047-b4fb-4129-d5b9-31c56ecae0aa"
      },
      "outputs": [
        {
          "output_type": "execute_result",
          "data": {
            "text/plain": [
              "<Axes: xlabel='fraudulent', ylabel='count'>"
            ]
          },
          "metadata": {},
          "execution_count": 189
        },
        {
          "output_type": "display_data",
          "data": {
            "text/plain": [
              "<Figure size 432x288 with 1 Axes>"
            ],
            "image/png": "[encoded data removed]"
          },
          "metadata": {
            "needs_background": "light"
          }
        }
      ],
      "source": [
        "sns.countplot(x=\"fraudulent\",data=dataset_train)"
      ]
    },
    {
      "cell_type": "code",
      "execution_count": 190,
      "metadata": {
        "colab": {
          "base_uri": "https://localhost:8080/",
          "height": 298
        },
        "id": "ddmGy04ZZ8_r",
        "outputId": "3570c7e2-47f8-4917-abd9-8b0789902bdc"
      },
      "outputs": [
        {
          "output_type": "execute_result",
          "data": {
            "text/plain": [
              "<Axes: xlabel='has_company_logo', ylabel='Density'>"
            ]
          },
          "metadata": {},
          "execution_count": 190
        },
        {
          "output_type": "display_data",
          "data": {
            "text/plain": [
              "<Figure size 432x288 with 1 Axes>"
            ],
            "image/png": "[encoded data removed]"
          },
          "metadata": {
            "needs_background": "light"
          }
        }
      ],
      "source": [
        "sns.distplot(dataset_train['has_company_logo']) "
      ]
    },
    {
      "cell_type": "code",
      "execution_count": 191,
      "metadata": {
        "colab": {
          "base_uri": "https://localhost:8080/",
          "height": 284
        },
        "id": "s_tWt8Ell8zB",
        "outputId": "10166b02-f320-4f48-b2b5-2601c4a5f651"
      },
      "outputs": [
        {
          "output_type": "execute_result",
          "data": {
            "text/plain": [
              "<Axes: >"
            ]
          },
          "metadata": {},
          "execution_count": 191
        },
        {
          "output_type": "display_data",
          "data": {
            "text/plain": [
              "<Figure size 432x288 with 1 Axes>"
            ],
            "image/png": "[encoded data removed]"
          },
          "metadata": {
            "needs_background": "light"
          }
        }
      ],
      "source": [
        "# box plot fr checking outliers\n",
        "dataset_train.boxplot()"
      ]
    },
    {
      "cell_type": "markdown",
      "metadata": {
        "id": "AISS2k4Jc7DD"
      },
      "source": [
        "Filling of null values"
      ]
    },
    {
      "cell_type": "code",
      "execution_count": 192,
      "metadata": {
        "id": "_uTQ9XsDRoQH"
      },
      "outputs": [],
      "source": [
        "cat=['title', 'location', 'department', 'salary_range',\n",
        "       'company_profile', 'requirements', 'benefits',\n",
        "        'employment_type', 'required_experience', 'required_education', 'industry', 'function',\n",
        "       'fraudulent']\n",
        " "
      ]
    },
    {
      "cell_type": "code",
      "execution_count": 193,
      "metadata": {
        "colab": {
          "base_uri": "https://localhost:8080/"
        },
        "id": "1nRl8vBhSoLd",
        "outputId": "7a5ca000-1b7e-4813-a8cc-e5809bc7e694"
      },
      "outputs": [
        {
          "output_type": "execute_result",
          "data": {
            "text/plain": [
              "['job_id', 'description', 'telecommuting', 'has_company_logo', 'has_questions']"
            ]
          },
          "metadata": {},
          "execution_count": 193
        }
      ],
      "source": [
        "num = [col for col in dataset_train.columns if col not in cat]\n",
        "num"
      ]
    },
    {
      "cell_type": "code",
      "execution_count": 194,
      "metadata": {
        "id": "IpKdz5hQSxm8"
      },
      "outputs": [],
      "source": [
        "cat1=np.array(['title', 'location', 'department', 'salary_range',\n",
        "       'company_profile', 'requirements', 'benefits',\n",
        "        'employment_type', 'required_experience', 'required_education', 'industry', 'function',\n",
        "       'fraudulent'])\n",
        "for cat in cat1:\n",
        "    dataset_train[cat] =  dataset_train[cat].fillna(dataset_train[cat].mode()[0])\n",
        "    "
      ]
    },
    {
      "cell_type": "code",
      "execution_count": 195,
      "metadata": {
        "id": "Dr3Tpb84TwyS"
      },
      "outputs": [],
      "source": [
        "num=(['telecommuting', 'has_company_logo', 'has_questions'])\n",
        "for num_col in num:\n",
        "    dataset_train[num_col]=dataset_train[num_col].fillna(dataset_train[num_col].median())"
      ]
    },
    {
      "cell_type": "code",
      "execution_count": 196,
      "metadata": {
        "colab": {
          "base_uri": "https://localhost:8080/"
        },
        "id": "c48KslV8UNt6",
        "outputId": "5fdcda8d-383f-4a96-a3aa-1133f4b242ec"
      },
      "outputs": [
        {
          "output_type": "execute_result",
          "data": {
            "text/plain": [
              "job_id                 0\n",
              "title                  0\n",
              "location               0\n",
              "department             0\n",
              "salary_range           0\n",
              "company_profile        0\n",
              "description            1\n",
              "requirements           0\n",
              "benefits               0\n",
              "telecommuting          0\n",
              "has_company_logo       0\n",
              "has_questions          0\n",
              "employment_type        0\n",
              "required_experience    0\n",
              "required_education     0\n",
              "industry               0\n",
              "function               0\n",
              "fraudulent             0\n",
              "dtype: int64"
            ]
          },
          "metadata": {},
          "execution_count": 196
        }
      ],
      "source": [
        "dataset_train.isnull().sum()"
      ]
    },
    {
      "cell_type": "markdown",
      "metadata": {
        "id": "VjtmLGd8eqQX"
      },
      "source": [
        "converting categorical to numerical values"
      ]
    },
    {
      "cell_type": "code",
      "execution_count": 196,
      "metadata": {
        "id": "GrWQofJcrc8Y"
      },
      "outputs": [],
      "source": []
    },
    {
      "cell_type": "code",
      "execution_count": 197,
      "metadata": {
        "id": "Oe8xyZHzinsy"
      },
      "outputs": [],
      "source": [
        "# Create dummy variables for the 'employment_type' and 'required_experience' columns\n",
        "dummy_cols = ['employment_type', 'required_experience','required_education']\n",
        "dummy_df = pd.get_dummies(dataset_train[dummy_cols], prefix=dummy_cols)\n",
        "\n",
        "# Add the dummy variables back to the original dataset\n",
        "dataset_train = pd.concat([dataset_train, dummy_df], axis=1)\n",
        "\n",
        "# Drop the original categorical columns\n",
        "dataset_train.drop(dummy_cols, axis=1, inplace=True)\n"
      ]
    },
    {
      "cell_type": "code",
      "execution_count": 198,
      "metadata": {
        "colab": {
          "base_uri": "https://localhost:8080/"
        },
        "id": "xSGevnkXsVat",
        "outputId": "49c89c93-6112-4f4f-9c3e-7400db3777bb"
      },
      "outputs": [
        {
          "output_type": "execute_result",
          "data": {
            "text/plain": [
              "(17880, 40)"
            ]
          },
          "metadata": {},
          "execution_count": 198
        }
      ],
      "source": [
        "dataset_train.shape"
      ]
    },
    {
      "cell_type": "code",
      "execution_count": 198,
      "metadata": {
        "id": "WOt6hMSDsUtG"
      },
      "outputs": [],
      "source": []
    },
    {
      "cell_type": "markdown",
      "metadata": {
        "id": "E9dWMxZZgR-o"
      },
      "source": [
        "Feature Engineering(Feature Selection)"
      ]
    },
    {
      "cell_type": "code",
      "execution_count": 199,
      "metadata": {
        "id": "q6MRCdf7X2V_"
      },
      "outputs": [],
      "source": [
        "dataset_train.drop(['job_id', 'title', 'department',\n",
        "       'company_profile', 'description', 'benefits','function','location','industry','requirements','salary_range'],axis=1,inplace=True)"
      ]
    },
    {
      "cell_type": "code",
      "execution_count": 200,
      "metadata": {
        "id": "WpcewpvtYnWX"
      },
      "outputs": [],
      "source": [
        "dataset_train=pd.concat([dataset_train],axis=1)"
      ]
    },
    {
      "cell_type": "code",
      "execution_count": 201,
      "metadata": {
        "colab": {
          "base_uri": "https://localhost:8080/",
          "height": 334
        },
        "id": "YA7KdGgHY4Vh",
        "outputId": "9882cf16-ac28-45dc-93a7-a687248e753a"
      },
      "outputs": [
        {
          "output_type": "execute_result",
          "data": {
            "text/plain": [
              "   telecommuting  has_company_logo  has_questions  fraudulent  \\\n",
              "0              0                 1              0           0   \n",
              "1              0                 1              0           0   \n",
              "2              0                 1              0           0   \n",
              "3              0                 1              0           0   \n",
              "4              0                 1              1           0   \n",
              "\n",
              "   employment_type_Contract  employment_type_Full-time  employment_type_Other  \\\n",
              "0                         0                          0                      1   \n",
              "1                         0                          1                      0   \n",
              "2                         0                          1                      0   \n",
              "3                         0                          1                      0   \n",
              "4                         0                          1                      0   \n",
              "\n",
              "   employment_type_Part-time  employment_type_Temporary  \\\n",
              "0                          0                          0   \n",
              "1                          0                          0   \n",
              "2                          0                          0   \n",
              "3                          0                          0   \n",
              "4                          0                          0   \n",
              "\n",
              "   required_experience_Associate  ...  required_education_Doctorate  \\\n",
              "0                              0  ...                             0   \n",
              "1                              0  ...                             0   \n",
              "2                              0  ...                             0   \n",
              "3                              0  ...                             0   \n",
              "4                              0  ...                             0   \n",
              "\n",
              "   required_education_High School or equivalent  \\\n",
              "0                                             0   \n",
              "1                                             0   \n",
              "2                                             0   \n",
              "3                                             0   \n",
              "4                                             0   \n",
              "\n",
              "   required_education_Master's Degree  required_education_Professional  \\\n",
              "0                                   0                                0   \n",
              "1                                   0                                0   \n",
              "2                                   0                                0   \n",
              "3                                   0                                0   \n",
              "4                                   0                                0   \n",
              "\n",
              "   required_education_Some College Coursework Completed  \\\n",
              "0                                                  0      \n",
              "1                                                  0      \n",
              "2                                                  0      \n",
              "3                                                  0      \n",
              "4                                                  0      \n",
              "\n",
              "   required_education_Some High School Coursework  \\\n",
              "0                                               0   \n",
              "1                                               0   \n",
              "2                                               0   \n",
              "3                                               0   \n",
              "4                                               0   \n",
              "\n",
              "   required_education_Unspecified  required_education_Vocational  \\\n",
              "0                               0                              0   \n",
              "1                               0                              0   \n",
              "2                               0                              0   \n",
              "3                               0                              0   \n",
              "4                               0                              0   \n",
              "\n",
              "   required_education_Vocational - Degree  \\\n",
              "0                                       0   \n",
              "1                                       0   \n",
              "2                                       0   \n",
              "3                                       0   \n",
              "4                                       0   \n",
              "\n",
              "   required_education_Vocational - HS Diploma  \n",
              "0                                           0  \n",
              "1                                           0  \n",
              "2                                           0  \n",
              "3                                           0  \n",
              "4                                           0  \n",
              "\n",
              "[5 rows x 29 columns]"
            ],
            "text/html": [
              "\n",
              "  <div id=\"df-3d5b891f-59c3-40d7-a501-1619c41226de\">\n",
              "    <div class=\"colab-df-container\">\n",
              "      <div>\n",
              "<style scoped>\n",
              "    .dataframe tbody tr th:only-of-type {\n",
              "        vertical-align: middle;\n",
              "    }\n",
              "\n",
              "    .dataframe tbody tr th {\n",
              "        vertical-align: top;\n",
              "    }\n",
              "\n",
              "    .dataframe thead th {\n",
              "        text-align: right;\n",
              "    }\n",
              "</style>\n",
              "<table border=\"1\" class=\"dataframe\">\n",
              "  <thead>\n",
              "    <tr style=\"text-align: right;\">\n",
              "      <th></th>\n",
              "      <th>telecommuting</th>\n",
              "      <th>has_company_logo</th>\n",
              "      <th>has_questions</th>\n",
              "      <th>fraudulent</th>\n",
              "      <th>employment_type_Contract</th>\n",
              "      <th>employment_type_Full-time</th>\n",
              "      <th>employment_type_Other</th>\n",
              "      <th>employment_type_Part-time</th>\n",
              "      <th>employment_type_Temporary</th>\n",
              "      <th>required_experience_Associate</th>\n",
              "      <th>...</th>\n",
              "      <th>required_education_Doctorate</th>\n",
              "      <th>required_education_High School or equivalent</th>\n",
              "      <th>required_education_Master's Degree</th>\n",
              "      <th>required_education_Professional</th>\n",
              "      <th>required_education_Some College Coursework Completed</th>\n",
              "      <th>required_education_Some High School Coursework</th>\n",
              "      <th>required_education_Unspecified</th>\n",
              "      <th>required_education_Vocational</th>\n",
              "      <th>required_education_Vocational - Degree</th>\n",
              "      <th>required_education_Vocational - HS Diploma</th>\n",
              "    </tr>\n",
              "  </thead>\n",
              "  <tbody>\n",
              "    <tr>\n",
              "      <th>0</th>\n",
              "      <td>0</td>\n",
              "      <td>1</td>\n",
              "      <td>0</td>\n",
              "      <td>0</td>\n",
              "      <td>0</td>\n",
              "      <td>0</td>\n",
              "      <td>1</td>\n",
              "      <td>0</td>\n",
              "      <td>0</td>\n",
              "      <td>0</td>\n",
              "      <td>...</td>\n",
              "      <td>0</td>\n",
              "      <td>0</td>\n",
              "      <td>0</td>\n",
              "      <td>0</td>\n",
              "      <td>0</td>\n",
              "      <td>0</td>\n",
              "      <td>0</td>\n",
              "      <td>0</td>\n",
              "      <td>0</td>\n",
              "      <td>0</td>\n",
              "    </tr>\n",
              "    <tr>\n",
              "      <th>1</th>\n",
              "      <td>0</td>\n",
              "      <td>1</td>\n",
              "      <td>0</td>\n",
              "      <td>0</td>\n",
              "      <td>0</td>\n",
              "      <td>1</td>\n",
              "      <td>0</td>\n",
              "      <td>0</td>\n",
              "      <td>0</td>\n",
              "      <td>0</td>\n",
              "      <td>...</td>\n",
              "      <td>0</td>\n",
              "      <td>0</td>\n",
              "      <td>0</td>\n",
              "      <td>0</td>\n",
              "      <td>0</td>\n",
              "      <td>0</td>\n",
              "      <td>0</td>\n",
              "      <td>0</td>\n",
              "      <td>0</td>\n",
              "      <td>0</td>\n",
              "    </tr>\n",
              "    <tr>\n",
              "      <th>2</th>\n",
              "      <td>0</td>\n",
              "      <td>1</td>\n",
              "      <td>0</td>\n",
              "      <td>0</td>\n",
              "      <td>0</td>\n",
              "      <td>1</td>\n",
              "      <td>0</td>\n",
              "      <td>0</td>\n",
              "      <td>0</td>\n",
              "      <td>0</td>\n",
              "      <td>...</td>\n",
              "      <td>0</td>\n",
              "      <td>0</td>\n",
              "      <td>0</td>\n",
              "      <td>0</td>\n",
              "      <td>0</td>\n",
              "      <td>0</td>\n",
              "      <td>0</td>\n",
              "      <td>0</td>\n",
              "      <td>0</td>\n",
              "      <td>0</td>\n",
              "    </tr>\n",
              "    <tr>\n",
              "      <th>3</th>\n",
              "      <td>0</td>\n",
              "      <td>1</td>\n",
              "      <td>0</td>\n",
              "      <td>0</td>\n",
              "      <td>0</td>\n",
              "      <td>1</td>\n",
              "      <td>0</td>\n",
              "      <td>0</td>\n",
              "      <td>0</td>\n",
              "      <td>0</td>\n",
              "      <td>...</td>\n",
              "      <td>0</td>\n",
              "      <td>0</td>\n",
              "      <td>0</td>\n",
              "      <td>0</td>\n",
              "      <td>0</td>\n",
              "      <td>0</td>\n",
              "      <td>0</td>\n",
              "      <td>0</td>\n",
              "      <td>0</td>\n",
              "      <td>0</td>\n",
              "    </tr>\n",
              "    <tr>\n",
              "      <th>4</th>\n",
              "      <td>0</td>\n",
              "      <td>1</td>\n",
              "      <td>1</td>\n",
              "      <td>0</td>\n",
              "      <td>0</td>\n",
              "      <td>1</td>\n",
              "      <td>0</td>\n",
              "      <td>0</td>\n",
              "      <td>0</td>\n",
              "      <td>0</td>\n",
              "      <td>...</td>\n",
              "      <td>0</td>\n",
              "      <td>0</td>\n",
              "      <td>0</td>\n",
              "      <td>0</td>\n",
              "      <td>0</td>\n",
              "      <td>0</td>\n",
              "      <td>0</td>\n",
              "      <td>0</td>\n",
              "      <td>0</td>\n",
              "      <td>0</td>\n",
              "    </tr>\n",
              "  </tbody>\n",
              "</table>\n",
              "<p>5 rows × 29 columns</p>\n",
              "</div>\n",
              "      <button class=\"colab-df-convert\" onclick=\"convertToInteractive('df-3d5b891f-59c3-40d7-a501-1619c41226de')\"\n",
              "              title=\"Convert this dataframe to an interactive table.\"\n",
              "              style=\"display:none;\">\n",
              "        \n",
              "  <svg xmlns=\"http://www.w3.org/2000/svg\" height=\"24px\"viewBox=\"0 0 24 24\"\n",
              "       width=\"24px\">\n",
              "    <path d=\"M0 0h24v24H0V0z\" fill=\"none\"/>\n",
              "    <path d=\"M18.56 5.44l.94 2.06.94-2.06 2.06-.94-2.06-.94-.94-2.06-.94 2.06-2.06.94zm-11 1L8.5 8.5l.94-2.06 2.06-.94-2.06-.94L8.5 2.5l-.94 2.06-2.06.94zm10 10l.94 2.06.94-2.06 2.06-.94-2.06-.94-.94-2.06-.94 2.06-2.06.94z\"/><path d=\"M17.41 7.96l-1.37-1.37c-.4-.4-.92-.59-1.43-.59-.52 0-1.04.2-1.43.59L10.3 9.45l-7.72 7.72c-.78.78-.78 2.05 0 2.83L4 21.41c.39.39.9.59 1.41.59.51 0 1.02-.2 1.41-.59l7.78-7.78 2.81-2.81c.8-.78.8-2.07 0-2.86zM5.41 20L4 18.59l7.72-7.72 1.47 1.35L5.41 20z\"/>\n",
              "  </svg>\n",
              "      </button>\n",
              "      \n",
              "  <style>\n",
              "    .colab-df-container {\n",
              "      display:flex;\n",
              "      flex-wrap:wrap;\n",
              "      gap: 12px;\n",
              "    }\n",
              "\n",
              "    .colab-df-convert {\n",
              "      background-color: #E8F0FE;\n",
              "      border: none;\n",
              "      border-radius: 50%;\n",
              "      cursor: pointer;\n",
              "      display: none;\n",
              "      fill: #1967D2;\n",
              "      height: 32px;\n",
              "      padding: 0 0 0 0;\n",
              "      width: 32px;\n",
              "    }\n",
              "\n",
              "    .colab-df-convert:hover {\n",
              "      background-color: #E2EBFA;\n",
              "      box-shadow: 0px 1px 2px rgba(60, 64, 67, 0.3), 0px 1px 3px 1px rgba(60, 64, 67, 0.15);\n",
              "      fill: #174EA6;\n",
              "    }\n",
              "\n",
              "    [theme=dark] .colab-df-convert {\n",
              "      background-color: #3B4455;\n",
              "      fill: #D2E3FC;\n",
              "    }\n",
              "\n",
              "    [theme=dark] .colab-df-convert:hover {\n",
              "      background-color: #434B5C;\n",
              "      box-shadow: 0px 1px 3px 1px rgba(0, 0, 0, 0.15);\n",
              "      filter: drop-shadow(0px 1px 2px rgba(0, 0, 0, 0.3));\n",
              "      fill: #FFFFFF;\n",
              "    }\n",
              "  </style>\n",
              "\n",
              "      <script>\n",
              "        const buttonEl =\n",
              "          document.querySelector('#df-3d5b891f-59c3-40d7-a501-1619c41226de button.colab-df-convert');\n",
              "        buttonEl.style.display =\n",
              "          google.colab.kernel.accessAllowed ? 'block' : 'none';\n",
              "\n",
              "        async function convertToInteractive(key) {\n",
              "          const element = document.querySelector('#df-3d5b891f-59c3-40d7-a501-1619c41226de');\n",
              "          const dataTable =\n",
              "            await google.colab.kernel.invokeFunction('convertToInteractive',\n",
              "                                                     [key], {});\n",
              "          if (!dataTable) return;\n",
              "\n",
              "          const docLinkHtml = 'Like what you see? Visit the ' +\n",
              "            '<a target=\"_blank\" href=https://colab.research.google.com/notebooks/data_table.ipynb>data table notebook</a>'\n",
              "            + ' to learn more about interactive tables.';\n",
              "          element.innerHTML = '';\n",
              "          dataTable['output_type'] = 'display_data';\n",
              "          await google.colab.output.renderOutput(dataTable, element);\n",
              "          const docLink = document.createElement('div');\n",
              "          docLink.innerHTML = docLinkHtml;\n",
              "          element.appendChild(docLink);\n",
              "        }\n",
              "      </script>\n",
              "    </div>\n",
              "  </div>\n",
              "  "
            ]
          },
          "metadata": {},
          "execution_count": 201
        }
      ],
      "source": [
        "dataset_train.head()"
      ]
    },
    {
      "cell_type": "code",
      "execution_count": 202,
      "metadata": {
        "colab": {
          "base_uri": "https://localhost:8080/"
        },
        "id": "sDoL8jYNJO_M",
        "outputId": "6a594e6b-5dca-4394-f898-1375d288f190"
      },
      "outputs": [
        {
          "output_type": "execute_result",
          "data": {
            "text/plain": [
              "telecommuting                                           int64\n",
              "has_company_logo                                        int64\n",
              "has_questions                                           int64\n",
              "fraudulent                                              int64\n",
              "employment_type_Contract                                uint8\n",
              "employment_type_Full-time                               uint8\n",
              "employment_type_Other                                   uint8\n",
              "employment_type_Part-time                               uint8\n",
              "employment_type_Temporary                               uint8\n",
              "required_experience_Associate                           uint8\n",
              "required_experience_Director                            uint8\n",
              "required_experience_Entry level                         uint8\n",
              "required_experience_Executive                           uint8\n",
              "required_experience_Internship                          uint8\n",
              "required_experience_Mid-Senior level                    uint8\n",
              "required_experience_Not Applicable                      uint8\n",
              "required_education_Associate Degree                     uint8\n",
              "required_education_Bachelor's Degree                    uint8\n",
              "required_education_Certification                        uint8\n",
              "required_education_Doctorate                            uint8\n",
              "required_education_High School or equivalent            uint8\n",
              "required_education_Master's Degree                      uint8\n",
              "required_education_Professional                         uint8\n",
              "required_education_Some College Coursework Completed    uint8\n",
              "required_education_Some High School Coursework          uint8\n",
              "required_education_Unspecified                          uint8\n",
              "required_education_Vocational                           uint8\n",
              "required_education_Vocational - Degree                  uint8\n",
              "required_education_Vocational - HS Diploma              uint8\n",
              "dtype: object"
            ]
          },
          "metadata": {},
          "execution_count": 202
        }
      ],
      "source": [
        "dataset_train.dtypes"
      ]
    },
    {
      "cell_type": "code",
      "execution_count": 203,
      "metadata": {
        "id": "Nh4BGgeHpCZ0"
      },
      "outputs": [],
      "source": [
        "# Separate the target variable from the input features\n",
        "y = dataset_train['fraudulent']\n",
        "X = dataset_train.drop('fraudulent', axis=1) #axis=1 the operation is performed along the columns"
      ]
    },
    {
      "cell_type": "code",
      "execution_count": 204,
      "metadata": {
        "colab": {
          "base_uri": "https://localhost:8080/"
        },
        "id": "FXkqc-JNpLiZ",
        "outputId": "6af8f455-85c0-4e9e-bb9d-3fd7d6d85fe7"
      },
      "outputs": [
        {
          "output_type": "stream",
          "name": "stdout",
          "text": [
            "Training data: 12516\n",
            "test data: 5364\n"
          ]
        }
      ],
      "source": [
        "# Split the data into training and test sets\n",
        "train_size = int(len(dataset_train) * 0.7) # 70% of the data is used for training\n",
        "X_train, X_test = X[:train_size], X[train_size:]\n",
        "y_train, y_test = y[:train_size], y[train_size:]\n",
        "\n",
        "# Print the size of each set\n",
        "print('Training data:', len(X_train))\n",
        "print('test data:', len(X_test))"
      ]
    },
    {
      "cell_type": "markdown",
      "metadata": {
        "id": "VHA_kMnCnfYa"
      },
      "source": [
        "    len(dataset_train) calculates the number of rows in the DataFrame, which is 0.7 represents the percentage of data that we want to include in the training set, which is 70%.\n",
        "\n",
        "    len(dataset_train) * 0.7 calculates the number of rows that we want to include in the training set, which is 70% of 100, or 70 rows.\n",
        "\n",
        "    int() converts the result to an integer, which is necessary because we cannot have a fractional number of rows in the training set.\n",
        "\n",
        "    train_size is assigned the value of 70, which represents the number of rows that should be included in the training set."
      ]
    },
    {
      "cell_type": "code",
      "execution_count": 205,
      "metadata": {
        "colab": {
          "base_uri": "https://localhost:8080/",
          "height": 334
        },
        "id": "5uXzqPXxBnXY",
        "outputId": "af2cacc2-f495-452a-a5f1-8215faeea58b"
      },
      "outputs": [
        {
          "output_type": "execute_result",
          "data": {
            "text/plain": [
              "   telecommuting  has_company_logo  has_questions  employment_type_Contract  \\\n",
              "0              0                 1              0                         0   \n",
              "1              0                 1              0                         0   \n",
              "2              0                 1              0                         0   \n",
              "3              0                 1              0                         0   \n",
              "4              0                 1              1                         0   \n",
              "\n",
              "   employment_type_Full-time  employment_type_Other  \\\n",
              "0                          0                      1   \n",
              "1                          1                      0   \n",
              "2                          1                      0   \n",
              "3                          1                      0   \n",
              "4                          1                      0   \n",
              "\n",
              "   employment_type_Part-time  employment_type_Temporary  \\\n",
              "0                          0                          0   \n",
              "1                          0                          0   \n",
              "2                          0                          0   \n",
              "3                          0                          0   \n",
              "4                          0                          0   \n",
              "\n",
              "   required_experience_Associate  required_experience_Director  ...  \\\n",
              "0                              0                             0  ...   \n",
              "1                              0                             0  ...   \n",
              "2                              0                             0  ...   \n",
              "3                              0                             0  ...   \n",
              "4                              0                             0  ...   \n",
              "\n",
              "   required_education_Doctorate  required_education_High School or equivalent  \\\n",
              "0                             0                                             0   \n",
              "1                             0                                             0   \n",
              "2                             0                                             0   \n",
              "3                             0                                             0   \n",
              "4                             0                                             0   \n",
              "\n",
              "   required_education_Master's Degree  required_education_Professional  \\\n",
              "0                                   0                                0   \n",
              "1                                   0                                0   \n",
              "2                                   0                                0   \n",
              "3                                   0                                0   \n",
              "4                                   0                                0   \n",
              "\n",
              "   required_education_Some College Coursework Completed  \\\n",
              "0                                                  0      \n",
              "1                                                  0      \n",
              "2                                                  0      \n",
              "3                                                  0      \n",
              "4                                                  0      \n",
              "\n",
              "   required_education_Some High School Coursework  \\\n",
              "0                                               0   \n",
              "1                                               0   \n",
              "2                                               0   \n",
              "3                                               0   \n",
              "4                                               0   \n",
              "\n",
              "   required_education_Unspecified  required_education_Vocational  \\\n",
              "0                               0                              0   \n",
              "1                               0                              0   \n",
              "2                               0                              0   \n",
              "3                               0                              0   \n",
              "4                               0                              0   \n",
              "\n",
              "   required_education_Vocational - Degree  \\\n",
              "0                                       0   \n",
              "1                                       0   \n",
              "2                                       0   \n",
              "3                                       0   \n",
              "4                                       0   \n",
              "\n",
              "   required_education_Vocational - HS Diploma  \n",
              "0                                           0  \n",
              "1                                           0  \n",
              "2                                           0  \n",
              "3                                           0  \n",
              "4                                           0  \n",
              "\n",
              "[5 rows x 28 columns]"
            ],
            "text/html": [
              "\n",
              "  <div id=\"df-43e4ebcb-7fe9-43b7-a5d2-4ce3df67900b\">\n",
              "    <div class=\"colab-df-container\">\n",
              "      <div>\n",
              "<style scoped>\n",
              "    .dataframe tbody tr th:only-of-type {\n",
              "        vertical-align: middle;\n",
              "    }\n",
              "\n",
              "    .dataframe tbody tr th {\n",
              "        vertical-align: top;\n",
              "    }\n",
              "\n",
              "    .dataframe thead th {\n",
              "        text-align: right;\n",
              "    }\n",
              "</style>\n",
              "<table border=\"1\" class=\"dataframe\">\n",
              "  <thead>\n",
              "    <tr style=\"text-align: right;\">\n",
              "      <th></th>\n",
              "      <th>telecommuting</th>\n",
              "      <th>has_company_logo</th>\n",
              "      <th>has_questions</th>\n",
              "      <th>employment_type_Contract</th>\n",
              "      <th>employment_type_Full-time</th>\n",
              "      <th>employment_type_Other</th>\n",
              "      <th>employment_type_Part-time</th>\n",
              "      <th>employment_type_Temporary</th>\n",
              "      <th>required_experience_Associate</th>\n",
              "      <th>required_experience_Director</th>\n",
              "      <th>...</th>\n",
              "      <th>required_education_Doctorate</th>\n",
              "      <th>required_education_High School or equivalent</th>\n",
              "      <th>required_education_Master's Degree</th>\n",
              "      <th>required_education_Professional</th>\n",
              "      <th>required_education_Some College Coursework Completed</th>\n",
              "      <th>required_education_Some High School Coursework</th>\n",
              "      <th>required_education_Unspecified</th>\n",
              "      <th>required_education_Vocational</th>\n",
              "      <th>required_education_Vocational - Degree</th>\n",
              "      <th>required_education_Vocational - HS Diploma</th>\n",
              "    </tr>\n",
              "  </thead>\n",
              "  <tbody>\n",
              "    <tr>\n",
              "      <th>0</th>\n",
              "      <td>0</td>\n",
              "      <td>1</td>\n",
              "      <td>0</td>\n",
              "      <td>0</td>\n",
              "      <td>0</td>\n",
              "      <td>1</td>\n",
              "      <td>0</td>\n",
              "      <td>0</td>\n",
              "      <td>0</td>\n",
              "      <td>0</td>\n",
              "      <td>...</td>\n",
              "      <td>0</td>\n",
              "      <td>0</td>\n",
              "      <td>0</td>\n",
              "      <td>0</td>\n",
              "      <td>0</td>\n",
              "      <td>0</td>\n",
              "      <td>0</td>\n",
              "      <td>0</td>\n",
              "      <td>0</td>\n",
              "      <td>0</td>\n",
              "    </tr>\n",
              "    <tr>\n",
              "      <th>1</th>\n",
              "      <td>0</td>\n",
              "      <td>1</td>\n",
              "      <td>0</td>\n",
              "      <td>0</td>\n",
              "      <td>1</td>\n",
              "      <td>0</td>\n",
              "      <td>0</td>\n",
              "      <td>0</td>\n",
              "      <td>0</td>\n",
              "      <td>0</td>\n",
              "      <td>...</td>\n",
              "      <td>0</td>\n",
              "      <td>0</td>\n",
              "      <td>0</td>\n",
              "      <td>0</td>\n",
              "      <td>0</td>\n",
              "      <td>0</td>\n",
              "      <td>0</td>\n",
              "      <td>0</td>\n",
              "      <td>0</td>\n",
              "      <td>0</td>\n",
              "    </tr>\n",
              "    <tr>\n",
              "      <th>2</th>\n",
              "      <td>0</td>\n",
              "      <td>1</td>\n",
              "      <td>0</td>\n",
              "      <td>0</td>\n",
              "      <td>1</td>\n",
              "      <td>0</td>\n",
              "      <td>0</td>\n",
              "      <td>0</td>\n",
              "      <td>0</td>\n",
              "      <td>0</td>\n",
              "      <td>...</td>\n",
              "      <td>0</td>\n",
              "      <td>0</td>\n",
              "      <td>0</td>\n",
              "      <td>0</td>\n",
              "      <td>0</td>\n",
              "      <td>0</td>\n",
              "      <td>0</td>\n",
              "      <td>0</td>\n",
              "      <td>0</td>\n",
              "      <td>0</td>\n",
              "    </tr>\n",
              "    <tr>\n",
              "      <th>3</th>\n",
              "      <td>0</td>\n",
              "      <td>1</td>\n",
              "      <td>0</td>\n",
              "      <td>0</td>\n",
              "      <td>1</td>\n",
              "      <td>0</td>\n",
              "      <td>0</td>\n",
              "      <td>0</td>\n",
              "      <td>0</td>\n",
              "      <td>0</td>\n",
              "      <td>...</td>\n",
              "      <td>0</td>\n",
              "      <td>0</td>\n",
              "      <td>0</td>\n",
              "      <td>0</td>\n",
              "      <td>0</td>\n",
              "      <td>0</td>\n",
              "      <td>0</td>\n",
              "      <td>0</td>\n",
              "      <td>0</td>\n",
              "      <td>0</td>\n",
              "    </tr>\n",
              "    <tr>\n",
              "      <th>4</th>\n",
              "      <td>0</td>\n",
              "      <td>1</td>\n",
              "      <td>1</td>\n",
              "      <td>0</td>\n",
              "      <td>1</td>\n",
              "      <td>0</td>\n",
              "      <td>0</td>\n",
              "      <td>0</td>\n",
              "      <td>0</td>\n",
              "      <td>0</td>\n",
              "      <td>...</td>\n",
              "      <td>0</td>\n",
              "      <td>0</td>\n",
              "      <td>0</td>\n",
              "      <td>0</td>\n",
              "      <td>0</td>\n",
              "      <td>0</td>\n",
              "      <td>0</td>\n",
              "      <td>0</td>\n",
              "      <td>0</td>\n",
              "      <td>0</td>\n",
              "    </tr>\n",
              "  </tbody>\n",
              "</table>\n",
              "<p>5 rows × 28 columns</p>\n",
              "</div>\n",
              "      <button class=\"colab-df-convert\" onclick=\"convertToInteractive('df-43e4ebcb-7fe9-43b7-a5d2-4ce3df67900b')\"\n",
              "              title=\"Convert this dataframe to an interactive table.\"\n",
              "              style=\"display:none;\">\n",
              "        \n",
              "  <svg xmlns=\"http://www.w3.org/2000/svg\" height=\"24px\"viewBox=\"0 0 24 24\"\n",
              "       width=\"24px\">\n",
              "    <path d=\"M0 0h24v24H0V0z\" fill=\"none\"/>\n",
              "    <path d=\"M18.56 5.44l.94 2.06.94-2.06 2.06-.94-2.06-.94-.94-2.06-.94 2.06-2.06.94zm-11 1L8.5 8.5l.94-2.06 2.06-.94-2.06-.94L8.5 2.5l-.94 2.06-2.06.94zm10 10l.94 2.06.94-2.06 2.06-.94-2.06-.94-.94-2.06-.94 2.06-2.06.94z\"/><path d=\"M17.41 7.96l-1.37-1.37c-.4-.4-.92-.59-1.43-.59-.52 0-1.04.2-1.43.59L10.3 9.45l-7.72 7.72c-.78.78-.78 2.05 0 2.83L4 21.41c.39.39.9.59 1.41.59.51 0 1.02-.2 1.41-.59l7.78-7.78 2.81-2.81c.8-.78.8-2.07 0-2.86zM5.41 20L4 18.59l7.72-7.72 1.47 1.35L5.41 20z\"/>\n",
              "  </svg>\n",
              "      </button>\n",
              "      \n",
              "  <style>\n",
              "    .colab-df-container {\n",
              "      display:flex;\n",
              "      flex-wrap:wrap;\n",
              "      gap: 12px;\n",
              "    }\n",
              "\n",
              "    .colab-df-convert {\n",
              "      background-color: #E8F0FE;\n",
              "      border: none;\n",
              "      border-radius: 50%;\n",
              "      cursor: pointer;\n",
              "      display: none;\n",
              "      fill: #1967D2;\n",
              "      height: 32px;\n",
              "      padding: 0 0 0 0;\n",
              "      width: 32px;\n",
              "    }\n",
              "\n",
              "    .colab-df-convert:hover {\n",
              "      background-color: #E2EBFA;\n",
              "      box-shadow: 0px 1px 2px rgba(60, 64, 67, 0.3), 0px 1px 3px 1px rgba(60, 64, 67, 0.15);\n",
              "      fill: #174EA6;\n",
              "    }\n",
              "\n",
              "    [theme=dark] .colab-df-convert {\n",
              "      background-color: #3B4455;\n",
              "      fill: #D2E3FC;\n",
              "    }\n",
              "\n",
              "    [theme=dark] .colab-df-convert:hover {\n",
              "      background-color: #434B5C;\n",
              "      box-shadow: 0px 1px 3px 1px rgba(0, 0, 0, 0.15);\n",
              "      filter: drop-shadow(0px 1px 2px rgba(0, 0, 0, 0.3));\n",
              "      fill: #FFFFFF;\n",
              "    }\n",
              "  </style>\n",
              "\n",
              "      <script>\n",
              "        const buttonEl =\n",
              "          document.querySelector('#df-43e4ebcb-7fe9-43b7-a5d2-4ce3df67900b button.colab-df-convert');\n",
              "        buttonEl.style.display =\n",
              "          google.colab.kernel.accessAllowed ? 'block' : 'none';\n",
              "\n",
              "        async function convertToInteractive(key) {\n",
              "          const element = document.querySelector('#df-43e4ebcb-7fe9-43b7-a5d2-4ce3df67900b');\n",
              "          const dataTable =\n",
              "            await google.colab.kernel.invokeFunction('convertToInteractive',\n",
              "                                                     [key], {});\n",
              "          if (!dataTable) return;\n",
              "\n",
              "          const docLinkHtml = 'Like what you see? Visit the ' +\n",
              "            '<a target=\"_blank\" href=https://colab.research.google.com/notebooks/data_table.ipynb>data table notebook</a>'\n",
              "            + ' to learn more about interactive tables.';\n",
              "          element.innerHTML = '';\n",
              "          dataTable['output_type'] = 'display_data';\n",
              "          await google.colab.output.renderOutput(dataTable, element);\n",
              "          const docLink = document.createElement('div');\n",
              "          docLink.innerHTML = docLinkHtml;\n",
              "          element.appendChild(docLink);\n",
              "        }\n",
              "      </script>\n",
              "    </div>\n",
              "  </div>\n",
              "  "
            ]
          },
          "metadata": {},
          "execution_count": 205
        }
      ],
      "source": [
        "X_train.head()"
      ]
    },
    {
      "cell_type": "code",
      "execution_count": 206,
      "metadata": {
        "colab": {
          "base_uri": "https://localhost:8080/"
        },
        "id": "twM31S_eqYKy",
        "outputId": "29641c96-e96e-45bd-9cce-84f3ab9b2e3a"
      },
      "outputs": [
        {
          "output_type": "execute_result",
          "data": {
            "text/plain": [
              "Index(['telecommuting', 'has_company_logo', 'has_questions',\n",
              "       'employment_type_Contract', 'employment_type_Full-time',\n",
              "       'employment_type_Other', 'employment_type_Part-time',\n",
              "       'employment_type_Temporary', 'required_experience_Associate',\n",
              "       'required_experience_Director', 'required_experience_Entry level',\n",
              "       'required_experience_Executive', 'required_experience_Internship',\n",
              "       'required_experience_Mid-Senior level',\n",
              "       'required_experience_Not Applicable',\n",
              "       'required_education_Associate Degree',\n",
              "       'required_education_Bachelor's Degree',\n",
              "       'required_education_Certification', 'required_education_Doctorate',\n",
              "       'required_education_High School or equivalent',\n",
              "       'required_education_Master's Degree', 'required_education_Professional',\n",
              "       'required_education_Some College Coursework Completed',\n",
              "       'required_education_Some High School Coursework',\n",
              "       'required_education_Unspecified', 'required_education_Vocational',\n",
              "       'required_education_Vocational - Degree',\n",
              "       'required_education_Vocational - HS Diploma'],\n",
              "      dtype='object')"
            ]
          },
          "metadata": {},
          "execution_count": 206
        }
      ],
      "source": [
        "X_train.columns"
      ]
    },
    {
      "cell_type": "code",
      "execution_count": 207,
      "metadata": {
        "colab": {
          "base_uri": "https://localhost:8080/"
        },
        "id": "olPOoimlDKeW",
        "outputId": "8bec24ea-00b9-4f83-f773-453668172510"
      },
      "outputs": [
        {
          "output_type": "execute_result",
          "data": {
            "text/plain": [
              "telecommuting                                           int64\n",
              "has_company_logo                                        int64\n",
              "has_questions                                           int64\n",
              "employment_type_Contract                                uint8\n",
              "employment_type_Full-time                               uint8\n",
              "employment_type_Other                                   uint8\n",
              "employment_type_Part-time                               uint8\n",
              "employment_type_Temporary                               uint8\n",
              "required_experience_Associate                           uint8\n",
              "required_experience_Director                            uint8\n",
              "required_experience_Entry level                         uint8\n",
              "required_experience_Executive                           uint8\n",
              "required_experience_Internship                          uint8\n",
              "required_experience_Mid-Senior level                    uint8\n",
              "required_experience_Not Applicable                      uint8\n",
              "required_education_Associate Degree                     uint8\n",
              "required_education_Bachelor's Degree                    uint8\n",
              "required_education_Certification                        uint8\n",
              "required_education_Doctorate                            uint8\n",
              "required_education_High School or equivalent            uint8\n",
              "required_education_Master's Degree                      uint8\n",
              "required_education_Professional                         uint8\n",
              "required_education_Some College Coursework Completed    uint8\n",
              "required_education_Some High School Coursework          uint8\n",
              "required_education_Unspecified                          uint8\n",
              "required_education_Vocational                           uint8\n",
              "required_education_Vocational - Degree                  uint8\n",
              "required_education_Vocational - HS Diploma              uint8\n",
              "dtype: object"
            ]
          },
          "metadata": {},
          "execution_count": 207
        }
      ],
      "source": [
        "X_train.dtypes"
      ]
    },
    {
      "cell_type": "markdown",
      "metadata": {
        "id": "ADH_TssQABu9"
      },
      "source": [
        "Standardization of Data(By standardizing the numerical features in the training set, we are ensuring that each feature has the same scale and is centered around 0. )"
      ]
    },
    {
      "cell_type": "code",
      "execution_count": 208,
      "metadata": {
        "id": "MELBeazzAvw3"
      },
      "outputs": [],
      "source": [
        "\n",
        "class StandardScaler:\n",
        "    def __init__(self):\n",
        "        self.mean_ = None\n",
        "        self.std_ = None\n",
        "        \n",
        "    def fit(self, X):\n",
        "        self.mean_ = np.mean(X, axis=0)\n",
        "        self.std_ = np.std(X, axis=0)\n",
        "        \n",
        "    def transform(self, X):\n",
        "        return (X - self.mean_) / self.std_\n",
        "    \n",
        "    def fit_transform(self, X):\n",
        "        self.fit(X)\n",
        "        return self.transform(X)\n"
      ]
    },
    {
      "cell_type": "markdown",
      "metadata": {
        "id": "4WZAEySY8PwH"
      },
      "source": [
        "The __init__ method initializes the class instance and sets the mean and standard deviation attributes to None.\n",
        "\n",
        "The fit method takes in a dataset X and computes the mean and standard deviation of each feature in the dataset. These values are stored in the self.mean_ and self.std_ attributes.\n",
        "\n",
        "The transform method takes in a dataset X and applies the standardization formula to each feature using the mean and standard deviation values stored in self.mean_ and self.std_. The resulting standardized dataset is returned.\n",
        "\n",
        "The fit_transform method combines the fit and transform methods into a single method that first computes the mean and standard deviation of the dataset and then standardizes the dataset using those values. The standardized dataset is returned."
      ]
    },
    {
      "cell_type": "code",
      "execution_count": 209,
      "metadata": {
        "id": "H-58K1_i_tI5"
      },
      "outputs": [],
      "source": [
        "num_ = [('telecommuting', 'has_company_logo', 'has_questions')]\n",
        "x_train_num = dataset_train[num]\n",
        "\n",
        "# Create a StandardScaler instance\n",
        "scaler = StandardScaler()\n",
        "\n",
        "# Fit the scaler on the training set\n",
        "scaler.fit(x_train_num)\n",
        "\n",
        "# Scale the numerical features in the training set\n",
        "dataset_train[num] = scaler.transform(x_train_num)\n",
        "\n",
        "\n"
      ]
    },
    {
      "cell_type": "markdown",
      "metadata": {
        "id": "eGoLIVK7_XKq"
      },
      "source": [
        "the num_cols list contains the names of four numerical columns in the dataset_train DataFrame: 'Age', 'Fare', 'SibSp', and 'Parch'.\n",
        "\n",
        "The next line creates a new DataFrame x_train_num containing only these columns from dataset_train.\n",
        "\n",
        "A StandardScaler instance is then created, and the fit method is called on x_train_num to compute the mean and standard deviation of each feature.\n",
        "\n",
        "Finally, the transform method is called on x_train_num to scale the data using the mean and standard deviation computed in the previous step. The scaled data is then assigned back to the corresponding columns in the dataset_train DataFrame."
      ]
    },
    {
      "cell_type": "markdown",
      "metadata": {
        "id": "1FEcZ_Ve_7CC"
      },
      "source": []
    },
    {
      "cell_type": "code",
      "execution_count": 210,
      "metadata": {
        "colab": {
          "base_uri": "https://localhost:8080/"
        },
        "id": "7KLonOJcVWvj",
        "outputId": "27ca610c-3487-4836-9553-a9dd84f5fd2c"
      },
      "outputs": [
        {
          "output_type": "execute_result",
          "data": {
            "text/plain": [
              "(12516, 28)"
            ]
          },
          "metadata": {},
          "execution_count": 210
        }
      ],
      "source": [
        "X_train.shape"
      ]
    },
    {
      "cell_type": "code",
      "execution_count": 211,
      "metadata": {
        "colab": {
          "base_uri": "https://localhost:8080/"
        },
        "id": "wf3k7ZSWvsE3",
        "outputId": "0236f5ba-8b52-4dd2-936b-ac9bf4787f49"
      },
      "outputs": [
        {
          "output_type": "execute_result",
          "data": {
            "text/plain": [
              "(5364, 28)"
            ]
          },
          "metadata": {},
          "execution_count": 211
        }
      ],
      "source": [
        "X_test.shape"
      ]
    },
    {
      "cell_type": "code",
      "execution_count": 212,
      "metadata": {
        "colab": {
          "base_uri": "https://localhost:8080/"
        },
        "id": "YFY0r6s6vypE",
        "outputId": "90b7e026-5edb-4647-fe4b-52c600a78ef4"
      },
      "outputs": [
        {
          "output_type": "execute_result",
          "data": {
            "text/plain": [
              "(12516,)"
            ]
          },
          "metadata": {},
          "execution_count": 212
        }
      ],
      "source": [
        "y_train.shape "
      ]
    },
    {
      "cell_type": "code",
      "execution_count": 213,
      "metadata": {
        "colab": {
          "base_uri": "https://localhost:8080/"
        },
        "id": "8GUpqC6BvrZp",
        "outputId": "405aa697-4394-4cd7-a6bc-994000d1f39e"
      },
      "outputs": [
        {
          "output_type": "execute_result",
          "data": {
            "text/plain": [
              "0        0\n",
              "1        0\n",
              "2        0\n",
              "3        0\n",
              "4        0\n",
              "        ..\n",
              "12511    0\n",
              "12512    0\n",
              "12513    0\n",
              "12514    0\n",
              "12515    0\n",
              "Name: fraudulent, Length: 12516, dtype: int64"
            ]
          },
          "metadata": {},
          "execution_count": 213
        }
      ],
      "source": [
        "y_train"
      ]
    },
    {
      "cell_type": "code",
      "execution_count": 214,
      "metadata": {
        "colab": {
          "base_uri": "https://localhost:8080/"
        },
        "id": "BlfGyRbnbB2v",
        "outputId": "afdb2a81-53e8-454a-8c93-71fae8be08a8"
      },
      "outputs": [
        {
          "output_type": "execute_result",
          "data": {
            "text/plain": [
              "telecommuting                                           int64\n",
              "has_company_logo                                        int64\n",
              "has_questions                                           int64\n",
              "employment_type_Contract                                uint8\n",
              "employment_type_Full-time                               uint8\n",
              "employment_type_Other                                   uint8\n",
              "employment_type_Part-time                               uint8\n",
              "employment_type_Temporary                               uint8\n",
              "required_experience_Associate                           uint8\n",
              "required_experience_Director                            uint8\n",
              "required_experience_Entry level                         uint8\n",
              "required_experience_Executive                           uint8\n",
              "required_experience_Internship                          uint8\n",
              "required_experience_Mid-Senior level                    uint8\n",
              "required_experience_Not Applicable                      uint8\n",
              "required_education_Associate Degree                     uint8\n",
              "required_education_Bachelor's Degree                    uint8\n",
              "required_education_Certification                        uint8\n",
              "required_education_Doctorate                            uint8\n",
              "required_education_High School or equivalent            uint8\n",
              "required_education_Master's Degree                      uint8\n",
              "required_education_Professional                         uint8\n",
              "required_education_Some College Coursework Completed    uint8\n",
              "required_education_Some High School Coursework          uint8\n",
              "required_education_Unspecified                          uint8\n",
              "required_education_Vocational                           uint8\n",
              "required_education_Vocational - Degree                  uint8\n",
              "required_education_Vocational - HS Diploma              uint8\n",
              "dtype: object"
            ]
          },
          "metadata": {},
          "execution_count": 214
        }
      ],
      "source": [
        "X_train.dtypes"
      ]
    },
    {
      "cell_type": "code",
      "execution_count": 215,
      "metadata": {
        "colab": {
          "base_uri": "https://localhost:8080/"
        },
        "id": "6TVMBJjYbFpB",
        "outputId": "ed4018be-663d-4aac-b71b-a2d58e405d88"
      },
      "outputs": [
        {
          "output_type": "execute_result",
          "data": {
            "text/plain": [
              "telecommuting                                           int64\n",
              "has_company_logo                                        int64\n",
              "has_questions                                           int64\n",
              "employment_type_Contract                                uint8\n",
              "employment_type_Full-time                               uint8\n",
              "employment_type_Other                                   uint8\n",
              "employment_type_Part-time                               uint8\n",
              "employment_type_Temporary                               uint8\n",
              "required_experience_Associate                           uint8\n",
              "required_experience_Director                            uint8\n",
              "required_experience_Entry level                         uint8\n",
              "required_experience_Executive                           uint8\n",
              "required_experience_Internship                          uint8\n",
              "required_experience_Mid-Senior level                    uint8\n",
              "required_experience_Not Applicable                      uint8\n",
              "required_education_Associate Degree                     uint8\n",
              "required_education_Bachelor's Degree                    uint8\n",
              "required_education_Certification                        uint8\n",
              "required_education_Doctorate                            uint8\n",
              "required_education_High School or equivalent            uint8\n",
              "required_education_Master's Degree                      uint8\n",
              "required_education_Professional                         uint8\n",
              "required_education_Some College Coursework Completed    uint8\n",
              "required_education_Some High School Coursework          uint8\n",
              "required_education_Unspecified                          uint8\n",
              "required_education_Vocational                           uint8\n",
              "required_education_Vocational - Degree                  uint8\n",
              "required_education_Vocational - HS Diploma              uint8\n",
              "dtype: object"
            ]
          },
          "metadata": {},
          "execution_count": 215
        }
      ],
      "source": [
        "X_test.dtypes"
      ]
    },
    {
      "cell_type": "code",
      "execution_count": 216,
      "metadata": {
        "id": "U-wssKfmMA6e"
      },
      "outputs": [],
      "source": [
        "def sigmoid(x):\n",
        "        return 1 / (1 + np.exp(-x))\n",
        "\n",
        "def binary_cross_entropy(y_true, y_pred):\n",
        "    return -(y_true * np.log(y_pred) + (1 - y_true) * np.log(1 - y_pred)).mean()\n"
      ]
    },
    {
      "cell_type": "markdown",
      "metadata": {
        "id": "KtFPlDWhhAiB"
      },
      "source": [
        "The first function sigmoid(x) implements the sigmoid activation function. It takes a numerical value x as input and returns the result of the sigmoid function applied to x. \n",
        "The second function binary_cross_entropy(y_true, y_pred) computes the binary cross-entropy loss between the true labels y_true and the predicted labels y_pred. This loss function is commonly used in binary classification problems, where there are only two possible classes. The function first calculates the loss for each individual sample, and then takes the mean of the losses across all samples. The formula for binary cross-entropy loss is:\n",
        "\n",
        "    y_true * log(y_pred) + (1 - y_true) * log(1 - y_pred)"
      ]
    },
    {
      "cell_type": "code",
      "execution_count": 217,
      "metadata": {
        "id": "I3iKKIa5ZzFt"
      },
      "outputs": [],
      "source": [
        "class NeuralNetwork:\n",
        "    def __init__(self, num_features):\n",
        "        self.weights1 = np.random.rand(10, num_features)\n",
        "        self.weights2 = np.random.rand(1, 10)\n",
        "  \n",
        "\n",
        "    def forward(self, X):\n",
        "        self.hidden_layer = sigmoid(np.dot(X, self.weights1.T))\n",
        "        self.output_layer = sigmoid(np.dot(self.hidden_layer, self.weights2.T))\n",
        "        return self.output_layer\n",
        "    \n",
        "    def train(self, X_train, y_train, lr, epochs):\n",
        "        y_train = y_train.values.reshape(-1, 1)  # convert to numpy array and reshape\n",
        "        for i in range(epochs):\n",
        "            # forward propagation\n",
        "            output = self.forward(X_train)\n",
        "\n",
        "            # calculate error\n",
        "            error = y_train - output\n",
        "\n",
        "            # backpropagation\n",
        "            output_derivative = output * (1 - output)\n",
        "            hidden_layer_derivative = self.hidden_layer * (1 - self.hidden_layer)\n",
        "            delta2 = error * output_derivative\n",
        "            delta1 = np.dot(delta2, self.weights2) * hidden_layer_derivative\n",
        "\n",
        "            # update weights\n",
        "            self.weights2 += lr * np.dot(delta2.T, self.hidden_layer)\n",
        "            self.weights1 += lr * np.dot(delta1.T, X_train)\n",
        "\n"
      ]
    },
    {
      "cell_type": "markdown",
      "metadata": {
        "id": "FcyzzWLtlape"
      },
      "source": [
        " a class called NeuralNetwork which implements a simple feedforward neural network with one hidden layer. The __init__ method initializes the weights randomly for both layers.\n",
        "\n",
        "Here is a brief explanation of the __init__ method:\n",
        "\n",
        "    __init__(self, num_features): This method initializes the weights for both layers randomly using the numpy rand function. num_features is the number of input features. The weights are randomly initialized to small values to break the symmetry of the network and avoid getting stuck in local minima during training. The first layer (weights1) has 6 neurons, and the second layer (weights2) has 1 neuron, which is appropriate for a binary classification problem where we want to predict a binary label (0 or 1) based on the input features."
      ]
    },
    {
      "cell_type": "markdown",
      "metadata": {
        "id": "DYl0UNGCmsJH"
      },
      "source": [
        "forward(self, X): This method takes an input X and computes the output of the neural network. It first applies the weights of the first layer (weights1) to the input and passes the result through the sigmoid activation function to compute the output of the hidden layer. The sigmoid function ensures that the output of the hidden layer is between 0 and 1, which is appropriate for a binary classification problem. Then, it applies the weights of the second layer (weights2) to the output of the hidden layer and passes the result through the sigmoid activation function again to compute the final output of the neural network. The output of the neural network is also between 0 and 1, which represents the predicted probability of the positive class. Finally, the method returns the output of the neural network."
      ]
    },
    {
      "cell_type": "code",
      "execution_count": 218,
      "metadata": {
        "id": "A9bykazJMJfW"
      },
      "outputs": [],
      "source": [
        "nn = NeuralNetwork(num_features= 28)\n",
        "nn.train(X_train, y_train, lr=0.01, epochs=1200)"
      ]
    },
    {
      "cell_type": "code",
      "execution_count": 219,
      "metadata": {
        "colab": {
          "base_uri": "https://localhost:8080/"
        },
        "id": "l9g_TrAakaus",
        "outputId": "30a66061-2634-4e45-a021-617f5d131dff"
      },
      "outputs": [
        {
          "output_type": "stream",
          "name": "stdout",
          "text": [
            "Test accuracy: 0.9343773303504848\n"
          ]
        }
      ],
      "source": [
        "# make predictions on test data\n",
        "y_pred = nn.forward(X_test)\n",
        "\n",
        "# convert predictions to binary (0 or 1) using a threshold value of 0.5\n",
        "y_pred_binary = np.where(y_pred >= 0.5, 1, 0)\n",
        "\n",
        "# compare predictions to actual labels and calculate accuracy\n",
        "accuracy = np.mean(y_pred_binary == y_test.values.reshape(-1, 1))\n",
        "print('Test accuracy:', accuracy)\n"
      ]
    },
    {
      "cell_type": "code",
      "execution_count": 220,
      "metadata": {
        "colab": {
          "base_uri": "https://localhost:8080/"
        },
        "id": "NxFcDFkn2Cl9",
        "outputId": "5f865b12-e8e0-4ede-f390-5d5585da17ec"
      },
      "outputs": [
        {
          "output_type": "stream",
          "name": "stdout",
          "text": [
            "Confusion matrix:\n",
            "[[5006.    0.]\n",
            " [ 352.    6.]]\n"
          ]
        }
      ],
      "source": [
        "# assume X_test and y_test are the test dataset and labels\n",
        "# predict labels using trained model\n",
        "y_pred = nn.forward(X_test)\n",
        "y_pred_classes = np.round(y_pred)\n",
        "\n",
        "# create confusion matrix\n",
        "confusion_matrix = np.zeros((2, 2))\n",
        "for i in range(len(y_test)):\n",
        "    true_label = int(y_test.iloc[i])\n",
        "    predicted_label = int(y_pred_classes[i][0])\n",
        "    confusion_matrix[true_label][predicted_label] += 1\n",
        "\n",
        "# print confusion matrix\n",
        "print(\"Confusion matrix:\")\n",
        "print(confusion_matrix)\n"
      ]
    },
    {
      "cell_type": "code",
      "source": [
        "import itertools\n",
        "\n",
        "# define hyperparameters and their possible values to try out\n",
        "learning_rates = [0.1, 0.01, 0.001]\n",
        "epochs = [1000,2000,3000]\n",
        "hidden_layer_sizes = [40, 45, 30]\n",
        "\n",
        "# create a list of all possible hyperparameter combinations\n",
        "hyperparameter_combinations = list(itertools.product(learning_rates, epochs, hidden_layer_sizes))\n",
        "\n",
        "# initialize variables to keep track of best hyperparameters and best accuracy\n",
        "best_hyperparameters = None\n",
        "best_accuracy = 0\n",
        "\n",
        "# loop over all possible hyperparameter combinations\n",
        "for lr, epoch, hidden_layer_size in hyperparameter_combinations:\n",
        "    # train model with current hyperparameters\n",
        "    nn = NeuralNetwork(num_features=28)\n",
        "    nn.train(X_train, y_train, lr=lr, epochs=epoch)\n",
        "    \n",
        "    # make predictions on test data\n",
        "    y_pred = nn.forward(X_test)\n",
        "    y_pred_binary = np.where(y_pred >= 0.5, 1, 0)\n",
        "\n",
        "    # calculate accuracy\n",
        "    accuracy = np.mean(y_pred_binary == y_test.values.reshape(-1, 1))\n",
        "\n",
        "    # if current accuracy is better than previous best, update best hyperparameters and best accuracy\n",
        "    if accuracy > best_accuracy:\n",
        "        best_hyperparameters = (lr, epoch, hidden_layer_size)\n",
        "        best_accuracy = accuracy\n",
        "    \n",
        "print(\"Best hyperparameters:\", best_hyperparameters)\n",
        "print(\"Best test accuracy:\", best_accuracy)\n"
      ],
      "metadata": {
        "id": "TwpfJoNJQucf"
      },
      "execution_count": null,
      "outputs": []
    },
    {
      "cell_type": "code",
      "source": [
        "class NeuralNetwork:\n",
        "    def __init__(self, num_features):\n",
        "        self.weights1 = np.random.rand(20, num_features)\n",
        "        self.weights2 = np.random.rand(1, 20)\n",
        "  \n",
        "\n",
        "    def forward(self, X):\n",
        "        self.hidden_layer = sigmoid(np.dot(X, self.weights1.T))\n",
        "        self.output_layer = sigmoid(np.dot(self.hidden_layer, self.weights2.T))\n",
        "        return self.output_layer\n",
        "    \n",
        "    def train(self, X_train, y_train, lr, epochs):\n",
        "        y_train = y_train.values.reshape(-1, 1)  # convert to numpy array and reshape\n",
        "        for i in range(epochs):\n",
        "            # forward propagation\n",
        "            output = self.forward(X_train)\n",
        "\n",
        "            # calculate error\n",
        "            error = y_train - output\n",
        "\n",
        "            # backpropagation\n",
        "            output_derivative = output * (1 - output)\n",
        "            hidden_layer_derivative = self.hidden_layer * (1 - self.hidden_layer)\n",
        "            delta2 = error * output_derivative\n",
        "            delta1 = np.dot(delta2, self.weights2) * hidden_layer_derivative\n",
        "\n",
        "            # update weights\n",
        "            self.weights2 += lr * np.dot(delta2.T, self.hidden_layer)\n",
        "            self.weights1 += lr * np.dot(delta1.T, X_train)\n",
        "\n"
      ],
      "metadata": {
        "id": "egQB1wBWoEBh"
      },
      "execution_count": 224,
      "outputs": []
    },
    {
      "cell_type": "code",
      "source": [
        "# train model with best hyperparameters\n",
        "best_lr, best_epochs, best_hidden_layer_size = best_hyperparameters\n",
        "nn = NeuralNetwork(num_features=28)\n",
        "nn.train(X_train, y_train, lr=best_lr, epochs=best_epochs)\n",
        "\n",
        "# make predictions on test data\n",
        "y_pred = nn.forward(X_test)\n",
        "y_pred_binary = np.where(y_pred >= 0.5, 1, 0)\n",
        "\n",
        "# calculate accuracy\n",
        "accuracy = np.mean(y_pred_binary == y_test.values.reshape(-1, 1))\n",
        "print(\"Test accuracy with best hyperparameters:\", accuracy)\n"
      ],
      "metadata": {
        "colab": {
          "base_uri": "https://localhost:8080/"
        },
        "id": "xAGWzbWynDAk",
        "outputId": "456d61c0-190a-48cd-97b5-cd43e2fa6a68"
      },
      "execution_count": 225,
      "outputs": [
        {
          "output_type": "stream",
          "name": "stdout",
          "text": [
            "Test accuracy with best hyperparameters: 0.9343773303504848\n"
          ]
        }
      ]
    }
  ],
  "metadata": {
    "colab": {
      "provenance": []
    },
    "kernelspec": {
      "display_name": "Python 3",
      "name": "python3"
    },
    "language_info": {
      "name": "python"
    }
  },
  "nbformat": 4,
  "nbformat_minor": 0
}